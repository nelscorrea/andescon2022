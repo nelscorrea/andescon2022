{
 "cells": [
  {
   "cell_type": "markdown",
   "id": "a2e60ae2",
   "metadata": {},
   "source": [
    "# CFPB Text Classification with Transformers\n",
    "11/18/2022\n",
    "\n",
    "Text classification on the Consumer Financial Protection Bureau (CFPB) Consumer Financial Complaints Database.\n",
    "Two large language model (LLM) classifiers using the HuggingFace transformers library: The distilled BERT transformer (*DistilBERT*) and a BERT transformer fine-tuned to financial texts by ProsusAI (*FinBERT*).\n",
    "\n",
    "* andescon2022_cfpb_classify_transformers.ipynb\n",
    "\n",
    "\n",
    "## IEEE ANDESCON 2022\n",
    "\n",
    "IEEE Andean Conference: Technology and innovation, Barranquilla-Colombia, September 16-19, 2022\n",
    "\n",
    "* https://nelscorrea.github.io/andescon2022\n"
   ]
  },
  {
   "cell_type": "code",
   "execution_count": 1,
   "id": "f315f8c9",
   "metadata": {},
   "outputs": [],
   "source": [
    "import numpy as np\n",
    "import pandas as pd\n",
    "import sklearn as sklearn\n",
    "\n",
    "import datasets as hfds\n",
    "import transformers as hf\n",
    "import tensorflow as tf\n",
    "\n",
    "import copy, gzip, os, re, sys\n",
    "from datetime import datetime\n",
    "\n",
    "import cfpb as cfpb\n",
    "import model_utils as mu\n",
    "\n",
    "%matplotlib inline\n",
    "import matplotlib.pyplot as plt\n",
    "import seaborn as sns\n",
    "import warnings\n",
    "warnings.filterwarnings(\"ignore\")\n",
    "\n",
    "from IPython.display import display, HTML\n",
    "warnings.filterwarnings(\"ignore\")"
   ]
  },
  {
   "cell_type": "code",
   "execution_count": 2,
   "id": "1ff5f904",
   "metadata": {},
   "outputs": [
    {
     "name": "stdout",
     "output_type": "stream",
     "text": [
      "NumPy 1.22.0, pandas 1.4.3, sklearn 1.1.1\n",
      "HuggingFace Transformers: 4.11.3, Datasets: 1.16.1\n",
      "TensorFlow: 2.9.1, Keras: 2.9.0\n"
     ]
    }
   ],
   "source": [
    "print(f\"NumPy {np.__version__}, pandas {pd.__version__}, sklearn {sklearn.__version__}\")\n",
    "print(f\"HuggingFace Transformers: {hf.__version__}, Datasets: {hfds.__version__}\")\n",
    "print(f\"TensorFlow: {tf.__version__}, Keras: {tf.keras.__version__}\")"
   ]
  },
  {
   "cell_type": "markdown",
   "id": "2839eaea",
   "metadata": {},
   "source": [
    "<hr/>\n",
    "\n",
    "# <a id=\"toc\">Contents - CFPB Text Classification with Transformers</a>\n",
    "\n",
    "* [CFPB Consumer Financial Complaints Database](#cfpb-ccd)\n",
    "* [DistilBERT Transformer Model](#distilbert)\n",
    "* [FinBERT Transformer Model](#finbert)\n",
    "* [Performance with transformers](#performance)\n",
    "* [Dense feature visualization](#visualization)\n",
    "    \n",
    "\n",
    "Other models considered: See [Baselines](andescon2022_cfpb_classify_baselines.ipynb) notebook.\n"
   ]
  },
  {
   "cell_type": "code",
   "execution_count": 3,
   "id": "5af6b856",
   "metadata": {},
   "outputs": [
    {
     "name": "stdout",
     "output_type": "stream",
     "text": [
      "CFPB dataset not downloaded: assumed in ./data\n",
      "\n",
      "total 416664\r\n",
      "drwxr-xr-x   4 nelson  staff        128 Feb 20 12:28 \u001b[34m.\u001b[m\u001b[m\r\n",
      "drwxr-xr-x  31 nelson  staff        992 Feb 21 16:05 \u001b[34m..\u001b[m\u001b[m\r\n",
      "-rw-r--r--   1 nelson  staff  175385569 Dec 16 02:29 consumer_complaints.csv\r\n",
      "-rw-r--r--   1 nelson  staff   37943046 Dec 16 02:29 consumer_complaints.csv.gz\r\n"
     ]
    }
   ],
   "source": [
    "# Get CFPB data\n",
    "remote_data_uri = \"https://github.com/nelscorrea/datasets/raw/main/cfpb/consumer_complaints.csv.gz\"\n",
    "get_cfpb_data = False  # set to True to download data from remote_data_uri\n",
    "if get_cfpb_data:\n",
    "    !wget -Pdata $remote_data_uri\n",
    "else:\n",
    "    print(\"CFPB dataset not downloaded: assumed in ./data\\n\")\n",
    "!ls -la data"
   ]
  },
  {
   "cell_type": "code",
   "execution_count": 4,
   "id": "15faefef",
   "metadata": {},
   "outputs": [
    {
     "name": "stdout",
     "output_type": "stream",
     "text": [
      "Reading cfpb_ds from: data/consumer_complaints.csv.gz\n"
     ]
    },
    {
     "name": "stderr",
     "output_type": "stream",
     "text": [
      "Using custom data configuration default-950eba856d48b1ea\n",
      "Reusing dataset csv (/Users/nelson/.cache/huggingface/datasets/csv/default-950eba856d48b1ea/0.0.0/bf68a4c4aefa545d0712b2fcbb1b327f905bbe2f6425fbc5e8c25234acb9e14a)\n"
     ]
    },
    {
     "data": {
      "application/vnd.jupyter.widget-view+json": {
       "model_id": "b2c7f950477249569693f3d5e465a0e2",
       "version_major": 2,
       "version_minor": 0
      },
      "text/plain": [
       "  0%|          | 0/3 [00:00<?, ?it/s]"
      ]
     },
     "metadata": {},
     "output_type": "display_data"
    },
    {
     "name": "stdout",
     "output_type": "stream",
     "text": [
      "cfpb_ds.shape: {'train': (500362, 18), 'validation': (27798, 18), 'test': (27798, 18)}\n",
      "cfpb_ds splits - train: 0-90%, validation: 5%, test: 5%\n",
      "\n"
     ]
    },
    {
     "data": {
      "text/plain": [
       "DatasetDict({\n",
       "    train: Dataset({\n",
       "        features: ['date_received', 'product', 'sub_product', 'issue', 'sub_issue', 'consumer_complaint_narrative', 'company_public_response', 'company', 'state', 'zipcode', 'tags', 'consumer_consent_provided', 'submitted_via', 'date_sent_to_company', 'company_response_to_consumer', 'timely_response', 'consumer_disputed?', 'complaint_id'],\n",
       "        num_rows: 500362\n",
       "    })\n",
       "    validation: Dataset({\n",
       "        features: ['date_received', 'product', 'sub_product', 'issue', 'sub_issue', 'consumer_complaint_narrative', 'company_public_response', 'company', 'state', 'zipcode', 'tags', 'consumer_consent_provided', 'submitted_via', 'date_sent_to_company', 'company_response_to_consumer', 'timely_response', 'consumer_disputed?', 'complaint_id'],\n",
       "        num_rows: 27798\n",
       "    })\n",
       "    test: Dataset({\n",
       "        features: ['date_received', 'product', 'sub_product', 'issue', 'sub_issue', 'consumer_complaint_narrative', 'company_public_response', 'company', 'state', 'zipcode', 'tags', 'consumer_consent_provided', 'submitted_via', 'date_sent_to_company', 'company_response_to_consumer', 'timely_response', 'consumer_disputed?', 'complaint_id'],\n",
       "        num_rows: 27798\n",
       "    })\n",
       "})"
      ]
     },
     "execution_count": 4,
     "metadata": {},
     "output_type": "execute_result"
    }
   ],
   "source": [
    "# CFPB CSV or JSON files\n",
    "cfpb_base = \"data/\"       # local data directory\n",
    "cfpb_kaggle_csv_fn = \"consumer_complaints.csv\"\n",
    "cfpb_kaggle_csv_fn = \"consumer_complaints.csv.gz\" # compressed file\n",
    "fin_path = os.path.join(cfpb_base, cfpb_kaggle_csv_fn)\n",
    "\n",
    "# All CFPB columns\n",
    "cfpb_ccd_columns = ['date_received', 'product', 'sub_product', 'issue', 'sub_issue', \n",
    "                    'consumer_complaint_narrative', 'company_public_response', 'company', \n",
    "                    'state', 'zipcode', 'tags', 'consumer_consent_provided', 'submitted_via', \n",
    "                    'date_sent_to_company', 'company_response_to_consumer',  \n",
    "                    'timely_response', 'consumer_disputed?', 'complaint_id']\n",
    "# CFPB wanted columns\n",
    "cfpb_columns_tcs = ['date_received', 'product', 'issue', 'company', 'state', 'zipcode', \n",
    "                    'consumer_complaint_narrative', 'complaint_id']\n",
    "\n",
    "# Dataset split percentages to use\n",
    "s0, s1, s2, s3 = [0, 90, 5, 5] # Full cfpb_dataset_split dataset to use (100%): %start, %train, %val, %test\n",
    "# s0, s1, s2, s3 = [89, 90, 1, 1] # Small dataset to use for dev/test (3%): only 1% of data for train/val/test\n",
    "\n",
    "split={\"train\":f\"cfpb_ccd[{s0}:{s1}%]\", \n",
    "       \"validation\":f\"cfpb_ccd[{s1}%:{s1+s2}%]\",\"test\":f\"cfpb_ccd[{s1+s2}%:{s1+s2+s3}%]\"}\n",
    "\n",
    "# Load as HuggingFace dataset\n",
    "# skiprows=1, # Not supported in hfds.load_dataset() - to remove header filter first row below as needed\n",
    "print(f\"Reading cfpb_ds from: {fin_path}\") # use fin_path\n",
    "cfpb_ds = hfds.load_dataset(\n",
    "    \"csv\", data_files={'cfpb_ccd':[fin_path]}, sep=\",\", split=split, names=cfpb_ccd_columns\n",
    ")\n",
    "\n",
    "print(f\"cfpb_ds.shape: {cfpb_ds.shape}\")\n",
    "print(f\"cfpb_ds splits - train: {s0}-{s1}%, validation: {s2}%, test: {s3}%\\n\")\n",
    "cfpb_ds"
   ]
  },
  {
   "cell_type": "code",
   "execution_count": 5,
   "id": "a0a6e1d9",
   "metadata": {},
   "outputs": [
    {
     "name": "stdout",
     "output_type": "stream",
     "text": [
      "       cfpb_ds rows: {'train': 500362, 'validation': 27798, 'test': 27798}\n",
      "narratives_not_null: {'train': 52586, 'validation': 8718, 'test': 5503}\n",
      "\n"
     ]
    }
   ],
   "source": [
    "# Null narratives in dataset splits: None in filtered_consumer_complaints.csv\n",
    "splits = [\"train\", \"validation\", \"test\"]\n",
    "narratives = {split:cfpb_ds[split][\"consumer_complaint_narrative\"] for split in splits}\n",
    "cfpb_ds_rows = {split:cfpb_ds[split].num_rows for split in splits}\n",
    "narratives_not_null = {split:len([x for x in narratives[split] if x != None]) for split in splits}\n",
    "print(f\"       cfpb_ds rows: {cfpb_ds_rows}\")\n",
    "print(f\"narratives_not_null: {narratives_not_null}\\n\")"
   ]
  },
  {
   "cell_type": "code",
   "execution_count": 6,
   "id": "a02d1c82",
   "metadata": {},
   "outputs": [
    {
     "name": "stderr",
     "output_type": "stream",
     "text": [
      "Parameter 'function'=<function <lambda> at 0x7f95c077a3a0> of the transform datasets.arrow_dataset.Dataset.filter@2.0.1 couldn't be hashed properly, a random hash was used instead. Make sure your transforms and parameters are serializable with pickle or dill for the dataset fingerprinting and caching to work. If you reuse this transform, the caching mechanism will consider it to be different from the previous calls and recompute everything. This warning is only showed once. Subsequent hashing failures won't be showed.\n"
     ]
    },
    {
     "name": "stdout",
     "output_type": "stream",
     "text": [
      "Total source rows (before filter): 555,958\n"
     ]
    },
    {
     "data": {
      "application/vnd.jupyter.widget-view+json": {
       "model_id": "b13993e4b78944549461bba0bd97e3f7",
       "version_major": 2,
       "version_minor": 0
      },
      "text/plain": [
       "  0%|          | 0/501 [00:00<?, ?ba/s]"
      ]
     },
     "metadata": {},
     "output_type": "display_data"
    },
    {
     "data": {
      "application/vnd.jupyter.widget-view+json": {
       "model_id": "42c7d26174a34612b0abc64fc340ad2d",
       "version_major": 2,
       "version_minor": 0
      },
      "text/plain": [
       "  0%|          | 0/28 [00:00<?, ?ba/s]"
      ]
     },
     "metadata": {},
     "output_type": "display_data"
    },
    {
     "data": {
      "application/vnd.jupyter.widget-view+json": {
       "model_id": "ea253132c4e2498f824116a125e76635",
       "version_major": 2,
       "version_minor": 0
      },
      "text/plain": [
       "  0%|          | 0/28 [00:00<?, ?ba/s]"
      ]
     },
     "metadata": {},
     "output_type": "display_data"
    },
    {
     "name": "stdout",
     "output_type": "stream",
     "text": [
      "Total rows (source): 555,957\n"
     ]
    },
    {
     "data": {
      "application/vnd.jupyter.widget-view+json": {
       "model_id": "5f3bce13ab6d474089e6f5c9ced621bf",
       "version_major": 2,
       "version_minor": 0
      },
      "text/plain": [
       "  0%|          | 0/501 [00:00<?, ?ba/s]"
      ]
     },
     "metadata": {},
     "output_type": "display_data"
    },
    {
     "data": {
      "application/vnd.jupyter.widget-view+json": {
       "model_id": "3d5e972824c04a12805cf01ff917540a",
       "version_major": 2,
       "version_minor": 0
      },
      "text/plain": [
       "  0%|          | 0/28 [00:00<?, ?ba/s]"
      ]
     },
     "metadata": {},
     "output_type": "display_data"
    },
    {
     "data": {
      "application/vnd.jupyter.widget-view+json": {
       "model_id": "31bd07276c0f4e01a2c52b74882fe77e",
       "version_major": 2,
       "version_minor": 0
      },
      "text/plain": [
       "  0%|          | 0/28 [00:00<?, ?ba/s]"
      ]
     },
     "metadata": {},
     "output_type": "display_data"
    },
    {
     "name": "stdout",
     "output_type": "stream",
     "text": [
      "Total rows (after filter): 66,806\n",
      "   cfpb_ds.shape (after filter): {'train': (52585, 18), 'validation': (8718, 18), 'test': (5503, 18)}\n"
     ]
    }
   ],
   "source": [
    "# Dataset filters\n",
    "# first row in cfpb_ds[\"train\"] only\n",
    "print(f\"Total source rows (before filter): {np.sum([i for i in cfpb_ds.num_rows.values()]):,d}\")\n",
    "apply_filters = True  # False to skip filters\n",
    "if apply_filters:\n",
    "    cfpb_ds = cfpb_ds.filter(\n",
    "        lambda x: (x[\"consumer_complaint_narrative\"] != \"consumer_complaint_narrative\")\n",
    "    )\n",
    "\n",
    "    # Filter out null narratives\n",
    "    print(f\"Total rows (source): {np.sum([i for i in cfpb_ds.num_rows.values()]):,d}\")\n",
    "    cfpb_ds = cfpb_ds.filter(\n",
    "        lambda x: (x[\"consumer_complaint_narrative\"] != None and x[\"product\"] != None)\n",
    "    )\n",
    "\n",
    "print(f\"Total rows (after filter): {np.sum([i for i in cfpb_ds.num_rows.values()]):,d}\")\n",
    "print(f\"   cfpb_ds.shape (after filter): {cfpb_ds.shape}\")\n",
    "# cfpb_ds"
   ]
  },
  {
   "cell_type": "code",
   "execution_count": 7,
   "id": "3be55e4e",
   "metadata": {},
   "outputs": [
    {
     "name": "stdout",
     "output_type": "stream",
     "text": [
      "cfpb_ds.shape (source): {'train': (52585, 18), 'validation': (8718, 18), 'test': (5503, 18)}\n",
      "cfpb_ds.shape (after): {'train': (52585, 8), 'validation': (8718, 8), 'test': (5503, 8)}\n"
     ]
    }
   ],
   "source": [
    "# Drop unwanted columns\n",
    "print(f\"cfpb_ds.shape (source): {cfpb_ds.shape}\")\n",
    "columns_to_remove = set(cfpb_columns_tcs).symmetric_difference(cfpb_ccd_columns)\n",
    "cfpb_ds = cfpb_ds.remove_columns(columns_to_remove)\n",
    "print(f\"cfpb_ds.shape (after): {cfpb_ds.shape}\")\n",
    "# cfpb_ds"
   ]
  },
  {
   "cell_type": "code",
   "execution_count": 8,
   "id": "beb1f9e9",
   "metadata": {},
   "outputs": [
    {
     "name": "stdout",
     "output_type": "stream",
     "text": [
      "cfpb_product_names: 11, cfpb_issue_names: 90\n"
     ]
    },
    {
     "data": {
      "text/plain": [
       "{'Bank account or service': 0,\n",
       " 'Consumer Loan': 1,\n",
       " 'Credit card': 2,\n",
       " 'Credit reporting': 3,\n",
       " 'Debt collection': 4,\n",
       " 'Money transfers': 5,\n",
       " 'Mortgage': 6,\n",
       " 'Other financial service': 7,\n",
       " 'Payday loan': 8,\n",
       " 'Prepaid card': 9,\n",
       " 'Student loan': 10}"
      ]
     },
     "execution_count": 8,
     "metadata": {},
     "output_type": "execute_result"
    }
   ],
   "source": [
    "# Labels: product, issue\n",
    "cfpb_product_names = np.unique([p for p in cfpb_ds[\"train\"][\"product\"]])\n",
    "cfpb_issue_names = np.unique([p for p in cfpb_ds[\"train\"][\"issue\"]])\n",
    "\n",
    "cfpb_product_label2int = {l:i for i, l in enumerate(cfpb_product_names)}\n",
    "cfpb_issue_label2int = {l:i for i, l in enumerate(cfpb_issue_names)}\n",
    "\n",
    "print(f\"cfpb_product_names: {len(cfpb_product_names)}, cfpb_issue_names: {len(cfpb_issue_names)}\")\n",
    "cfpb_product_label2int "
   ]
  },
  {
   "cell_type": "code",
   "execution_count": 9,
   "id": "1779c6d5",
   "metadata": {},
   "outputs": [
    {
     "data": {
      "application/vnd.jupyter.widget-view+json": {
       "model_id": "30878dd20cba4be08db27af925e85884",
       "version_major": 2,
       "version_minor": 0
      },
      "text/plain": [
       "  0%|          | 0/52585 [00:00<?, ?ex/s]"
      ]
     },
     "metadata": {},
     "output_type": "display_data"
    },
    {
     "data": {
      "application/vnd.jupyter.widget-view+json": {
       "model_id": "0a18d21ed7d34ada9ab3898ad95605c6",
       "version_major": 2,
       "version_minor": 0
      },
      "text/plain": [
       "  0%|          | 0/52585 [00:00<?, ?ex/s]"
      ]
     },
     "metadata": {},
     "output_type": "display_data"
    },
    {
     "data": {
      "application/vnd.jupyter.widget-view+json": {
       "model_id": "6c2732db9fa14c07ae60ad9e24e2aa35",
       "version_major": 2,
       "version_minor": 0
      },
      "text/plain": [
       "  0%|          | 0/8718 [00:00<?, ?ex/s]"
      ]
     },
     "metadata": {},
     "output_type": "display_data"
    },
    {
     "data": {
      "application/vnd.jupyter.widget-view+json": {
       "model_id": "e38b830b4db44ea3864c22322c49f37d",
       "version_major": 2,
       "version_minor": 0
      },
      "text/plain": [
       "  0%|          | 0/8718 [00:00<?, ?ex/s]"
      ]
     },
     "metadata": {},
     "output_type": "display_data"
    },
    {
     "data": {
      "application/vnd.jupyter.widget-view+json": {
       "model_id": "69441244104f4743bf3ba54aa2fffabd",
       "version_major": 2,
       "version_minor": 0
      },
      "text/plain": [
       "  0%|          | 0/5503 [00:00<?, ?ex/s]"
      ]
     },
     "metadata": {},
     "output_type": "display_data"
    },
    {
     "data": {
      "application/vnd.jupyter.widget-view+json": {
       "model_id": "73824fcdf1f848f3a126eebe3d2b1237",
       "version_major": 2,
       "version_minor": 0
      },
      "text/plain": [
       "  0%|          | 0/5503 [00:00<?, ?ex/s]"
      ]
     },
     "metadata": {},
     "output_type": "display_data"
    },
    {
     "data": {
      "text/plain": [
       "DatasetDict({\n",
       "    train: Dataset({\n",
       "        features: ['date_received', 'product', 'issue', 'consumer_complaint_narrative', 'company', 'state', 'zipcode', 'complaint_id', 'pid', 'wc'],\n",
       "        num_rows: 52585\n",
       "    })\n",
       "    validation: Dataset({\n",
       "        features: ['date_received', 'product', 'issue', 'consumer_complaint_narrative', 'company', 'state', 'zipcode', 'complaint_id', 'pid', 'wc'],\n",
       "        num_rows: 8718\n",
       "    })\n",
       "    test: Dataset({\n",
       "        features: ['date_received', 'product', 'issue', 'consumer_complaint_narrative', 'company', 'state', 'zipcode', 'complaint_id', 'pid', 'wc'],\n",
       "        num_rows: 5503\n",
       "    })\n",
       "})"
      ]
     },
     "execution_count": 9,
     "metadata": {},
     "output_type": "execute_result"
    }
   ],
   "source": [
    "# Add pid, wc - product label ids and word counts\n",
    "for split in splits:\n",
    "    cfpb_ds[split] = cfpb_ds[split].map(lambda r: {\"pid\":cfpb_product_label2int[r[\"product\"]]})\n",
    "    cfpb_ds[split] = cfpb_ds[split].map(lambda r: {\"wc\":len(str.split(r[\"consumer_complaint_narrative\"]))})\n",
    "\n",
    "cfpb_ccd_columns += ['pid', 'wc']\n",
    "cfpb_columns_tcs += ['pid', 'wc']\n",
    "cfpb_ds #[\"train\"]"
   ]
  },
  {
   "cell_type": "code",
   "execution_count": 10,
   "id": "b89990ac",
   "metadata": {},
   "outputs": [
    {
     "name": "stdout",
     "output_type": "stream",
     "text": [
      "cfpb_train_df.shape: (52585, 10)\n"
     ]
    },
    {
     "data": {
      "text/html": [
       "<div>\n",
       "<style scoped>\n",
       "    .dataframe tbody tr th:only-of-type {\n",
       "        vertical-align: middle;\n",
       "    }\n",
       "\n",
       "    .dataframe tbody tr th {\n",
       "        vertical-align: top;\n",
       "    }\n",
       "\n",
       "    .dataframe thead th {\n",
       "        text-align: right;\n",
       "    }\n",
       "</style>\n",
       "<table border=\"1\" class=\"dataframe\">\n",
       "  <thead>\n",
       "    <tr style=\"text-align: right;\">\n",
       "      <th></th>\n",
       "      <th>date_received</th>\n",
       "      <th>product</th>\n",
       "      <th>issue</th>\n",
       "      <th>company</th>\n",
       "      <th>state</th>\n",
       "      <th>zipcode</th>\n",
       "      <th>consumer_complaint_narrative</th>\n",
       "      <th>complaint_id</th>\n",
       "      <th>pid</th>\n",
       "      <th>wc</th>\n",
       "    </tr>\n",
       "  </thead>\n",
       "  <tbody>\n",
       "    <tr>\n",
       "      <th>0</th>\n",
       "      <td>03/19/2015</td>\n",
       "      <td>Debt collection</td>\n",
       "      <td>Cont'd attempts collect debt not owed</td>\n",
       "      <td>Diversified Consultants, Inc.</td>\n",
       "      <td>NY</td>\n",
       "      <td>121XX</td>\n",
       "      <td>XXXX has claimed I owe them {$27.00} for XXXX ...</td>\n",
       "      <td>1290516</td>\n",
       "      <td>4</td>\n",
       "      <td>55</td>\n",
       "    </tr>\n",
       "    <tr>\n",
       "      <th>1</th>\n",
       "      <td>03/19/2015</td>\n",
       "      <td>Consumer Loan</td>\n",
       "      <td>Managing the loan or lease</td>\n",
       "      <td>M&amp;T Bank Corporation</td>\n",
       "      <td>VA</td>\n",
       "      <td>221XX</td>\n",
       "      <td>Due to inconsistencies in the amount owed that...</td>\n",
       "      <td>1290492</td>\n",
       "      <td>1</td>\n",
       "      <td>248</td>\n",
       "    </tr>\n",
       "    <tr>\n",
       "      <th>2</th>\n",
       "      <td>03/19/2015</td>\n",
       "      <td>Mortgage</td>\n",
       "      <td>Loan modification,collection,foreclosure</td>\n",
       "      <td>Wells Fargo &amp; Company</td>\n",
       "      <td>CA</td>\n",
       "      <td>946XX</td>\n",
       "      <td>In XX/XX/XXXX my wages that I earned at my job...</td>\n",
       "      <td>1290524</td>\n",
       "      <td>6</td>\n",
       "      <td>666</td>\n",
       "    </tr>\n",
       "    <tr>\n",
       "      <th>3</th>\n",
       "      <td>03/19/2015</td>\n",
       "      <td>Mortgage</td>\n",
       "      <td>Loan servicing, payments, escrow account</td>\n",
       "      <td>JPMorgan Chase &amp; Co.</td>\n",
       "      <td>CA</td>\n",
       "      <td>900XX</td>\n",
       "      <td>I have an open and current mortgage with Chase...</td>\n",
       "      <td>1290253</td>\n",
       "      <td>6</td>\n",
       "      <td>75</td>\n",
       "    </tr>\n",
       "    <tr>\n",
       "      <th>4</th>\n",
       "      <td>03/19/2015</td>\n",
       "      <td>Mortgage</td>\n",
       "      <td>Credit decision / Underwriting</td>\n",
       "      <td>Rushmore Loan Management Services LLC</td>\n",
       "      <td>CA</td>\n",
       "      <td>956XX</td>\n",
       "      <td>XXXX was submitted XX/XX/XXXX. At the time I s...</td>\n",
       "      <td>1292137</td>\n",
       "      <td>6</td>\n",
       "      <td>259</td>\n",
       "    </tr>\n",
       "  </tbody>\n",
       "</table>\n",
       "</div>"
      ],
      "text/plain": [
       "  date_received          product                                     issue  \\\n",
       "0    03/19/2015  Debt collection     Cont'd attempts collect debt not owed   \n",
       "1    03/19/2015    Consumer Loan                Managing the loan or lease   \n",
       "2    03/19/2015         Mortgage  Loan modification,collection,foreclosure   \n",
       "3    03/19/2015         Mortgage  Loan servicing, payments, escrow account   \n",
       "4    03/19/2015         Mortgage            Credit decision / Underwriting   \n",
       "\n",
       "                                 company state zipcode  \\\n",
       "0          Diversified Consultants, Inc.    NY   121XX   \n",
       "1                   M&T Bank Corporation    VA   221XX   \n",
       "2                  Wells Fargo & Company    CA   946XX   \n",
       "3                   JPMorgan Chase & Co.    CA   900XX   \n",
       "4  Rushmore Loan Management Services LLC    CA   956XX   \n",
       "\n",
       "                        consumer_complaint_narrative complaint_id  pid   wc  \n",
       "0  XXXX has claimed I owe them {$27.00} for XXXX ...      1290516    4   55  \n",
       "1  Due to inconsistencies in the amount owed that...      1290492    1  248  \n",
       "2  In XX/XX/XXXX my wages that I earned at my job...      1290524    6  666  \n",
       "3  I have an open and current mortgage with Chase...      1290253    6   75  \n",
       "4  XXXX was submitted XX/XX/XXXX. At the time I s...      1292137    6  259  "
      ]
     },
     "execution_count": 10,
     "metadata": {},
     "output_type": "execute_result"
    }
   ],
   "source": [
    "# As pandas\n",
    "cfpb_ds.set_format(\"pandas\")\n",
    "cfpb_train_df = cfpb_ds[splits[0]][:]  # \"train\" split\n",
    "cfpb_ds.reset_format() # Reset format\n",
    "\n",
    "print(f\"cfpb_train_df.shape: {cfpb_train_df.shape}\")\n",
    "cfpb_train_df[cfpb_columns_tcs].head()"
   ]
  },
  {
   "cell_type": "code",
   "execution_count": 11,
   "id": "f91cb69e",
   "metadata": {},
   "outputs": [
    {
     "name": "stdout",
     "output_type": "stream",
     "text": [
      "LABELS - product: 11\t issue: 90\t company: 2,116\n"
     ]
    }
   ],
   "source": [
    "# product: only 11 in this sample; 13 in full CFPB 2022 dataset\n",
    "product_cnts = cfpb_train_df[['product']].value_counts()\n",
    "issue_cnts = cfpb_train_df[['issue']].value_counts()\n",
    "company_cnts = cfpb_train_df[['company']].value_counts()\n",
    "print(f\"LABELS - product: {len(product_cnts)}\\t issue: {len(issue_cnts)}\\t company: {len(company_cnts):,d}\")"
   ]
  },
  {
   "cell_type": "code",
   "execution_count": 12,
   "id": "65126dab",
   "metadata": {},
   "outputs": [
    {
     "name": "stdout",
     "output_type": "stream",
     "text": [
      "Total complaints with narrative: 52,585\n"
     ]
    },
    {
     "data": {
      "image/png": "[encoded data removed]",
      "text/plain": [
       "<Figure size 864x360 with 1 Axes>"
      ]
     },
     "metadata": {
      "needs_background": "light"
     },
     "output_type": "display_data"
    }
   ],
   "source": [
    "# Histogram: Words\n",
    "print(f\"Total complaints with narrative: {cfpb_train_df.shape[0]:,d}\") # ({cwh_notnap:.2f}%)\")\n",
    "title = 'CFPB Complaint Length in Words'\n",
    "xlabel = 'Complaint Length in Words'\n",
    "ylabel = 'Complaints Count'\n",
    "\n",
    "ax = cfpb_train_df.plot(kind=\"hist\", column=['wc'], bins=50, range=(0, 850), \n",
    "                        title=title, rwidth=0.8, grid=True, figsize=(12, 5))\n",
    "_ = ax.set(xlabel=xlabel, ylabel=ylabel)"
   ]
  },
  {
   "cell_type": "markdown",
   "id": "76c2ac18",
   "metadata": {},
   "source": [
    "<hr/>\n",
    "\n",
    "# <a id=\"distilbert\">DistilBERT Transformer Model</a>\n",
    "\n",
    "\n",
    "## End-to-end fine-tune: `product` classifier\n",
    "\n",
    "### DistilBERT\n",
    "* model_ckpt = \"distilbert-base-uncased\"\n",
    "* Model: \"tf_distil_bert_for_sequence_classification\"\n",
    "* Total params: 66,961,931\n",
    "\n",
    "### Notes\n",
    "* tokenizer with hf.AutoTokenizer.from_pretrained(\"distilbert-base-uncased\")\n",
    "* End-to-end fine-tuning of hf.TFAutoModelForSequenceClassification(\"distilbert-base-uncased\")\n",
    "* Training for two epochs with batch size 32\n",
    "\n",
    "[top](#toc) "
   ]
  },
  {
   "cell_type": "code",
   "execution_count": 13,
   "id": "b86de1d4",
   "metadata": {},
   "outputs": [
    {
     "name": "stdout",
     "output_type": "stream",
     "text": [
      "tokenizer.model_input_names: ['input_ids', 'attention_mask']\n"
     ]
    },
    {
     "data": {
      "application/vnd.jupyter.widget-view+json": {
       "model_id": "5e131c39512b4b428977425d3abb7862",
       "version_major": 2,
       "version_minor": 0
      },
      "text/plain": [
       "  0%|          | 0/1 [00:00<?, ?ba/s]"
      ]
     },
     "metadata": {},
     "output_type": "display_data"
    },
    {
     "data": {
      "application/vnd.jupyter.widget-view+json": {
       "model_id": "d6adf6a012b646aca4f25be867b88053",
       "version_major": 2,
       "version_minor": 0
      },
      "text/plain": [
       "  0%|          | 0/1 [00:00<?, ?ba/s]"
      ]
     },
     "metadata": {},
     "output_type": "display_data"
    },
    {
     "data": {
      "application/vnd.jupyter.widget-view+json": {
       "model_id": "3eb7250b219849a0b97d5fdaf9b4f2c2",
       "version_major": 2,
       "version_minor": 0
      },
      "text/plain": [
       "  0%|          | 0/1 [00:00<?, ?ba/s]"
      ]
     },
     "metadata": {},
     "output_type": "display_data"
    },
    {
     "name": "stdout",
     "output_type": "stream",
     "text": [
      "Model name: distilbert-base-uncased, cfpb_ds_encoded_dbert.shape: {'train': (52585, 12), 'validation': (8718, 12), 'test': (5503, 12)}\n",
      "\n"
     ]
    },
    {
     "name": "stderr",
     "output_type": "stream",
     "text": [
      "2023-02-21 16:09:11.221390: I tensorflow/core/platform/cpu_feature_guard.cc:193] This TensorFlow binary is optimized with oneAPI Deep Neural Network Library (oneDNN) to use the following CPU instructions in performance-critical operations:  AVX2 FMA\n",
      "To enable them in other operations, rebuild TensorFlow with the appropriate compiler flags.\n"
     ]
    },
    {
     "name": "stdout",
     "output_type": "stream",
     "text": [
      "Dataset - cfpb_ds.shape: {'train': (52585, 10), 'validation': (8718, 10), 'test': (5503, 10)}\n",
      "\n",
      "CPU times: user 2min 13s, sys: 7.08 s, total: 2min 20s\n",
      "Wall time: 36.9 s\n"
     ]
    }
   ],
   "source": [
    "%%time\n",
    "# Model \n",
    "model_ckpt = \"distilbert-base-uncased\"\n",
    "batch_size = 32\n",
    "tokenizer = hf.AutoTokenizer.from_pretrained(model_ckpt)\n",
    "print(f\"tokenizer.model_input_names: {tokenizer.model_input_names}\")\n",
    "\n",
    "def tokenize(batch):\n",
    "    return tokenizer(batch[\"consumer_complaint_narrative\"], padding=True, truncation=True)\n",
    "\n",
    "# Tokenize dataset: train, validation, test\n",
    "cfpb_ds_encoded_dbert = cfpb_ds.map(tokenize, batched=True, batch_size=None)\n",
    "print(f\"Model name: {model_ckpt}, cfpb_ds_encoded_dbert.shape: {cfpb_ds_encoded_dbert.shape}\\n\")\n",
    "# cfpb_ds_encoded_dbert[\"train\"]\n",
    "\n",
    "# The column names to convert to TensorFlow tensors\n",
    "tokenizer_columns = tokenizer.model_input_names\n",
    "random_seed = 287\n",
    "\n",
    "tf_train_dataset_dbert = cfpb_ds_encoded_dbert[\"train\"].to_tf_dataset(\n",
    "        columns=tokenizer_columns, label_cols=[\"pid\"], shuffle=True, batch_size=batch_size)\n",
    "tf_val_dataset_dbert = cfpb_ds_encoded_dbert[\"validation\"].to_tf_dataset(\n",
    "    columns=tokenizer_columns, label_cols=[\"pid\"], shuffle=False, batch_size=batch_size)\n",
    "tf_test_dataset_dbert = cfpb_ds_encoded_dbert[\"test\"].to_tf_dataset(\n",
    "    columns=tokenizer_columns, label_cols=[\"pid\"], shuffle=False, batch_size=batch_size)\n",
    "print(f\"Dataset - cfpb_ds.shape: {cfpb_ds.shape}\\n\")"
   ]
  },
  {
   "cell_type": "code",
   "execution_count": 14,
   "id": "99fd1729",
   "metadata": {},
   "outputs": [
    {
     "name": "stdout",
     "output_type": "stream",
     "text": [
      " Unique product ids: [ 0  1  2  3  4  5  6  7  8  9 10]\n"
     ]
    }
   ],
   "source": [
    "# Verify product, issue encodings (pid, iid)\n",
    "pid_train = cfpb_ds_encoded_dbert[\"train\"]['pid']\n",
    "print(f\" Unique product ids: {np.unique(pid_train)}\")"
   ]
  },
  {
   "cell_type": "code",
   "execution_count": 15,
   "id": "250de492",
   "metadata": {},
   "outputs": [
    {
     "name": "stdout",
     "output_type": "stream",
     "text": [
      "Loading model from dir: ./saved_models/distilbert_cfpb_product_finetune_20220817\n"
     ]
    },
    {
     "name": "stderr",
     "output_type": "stream",
     "text": [
      "All model checkpoint layers were used when initializing TFDistilBertForSequenceClassification.\n",
      "\n",
      "All the layers of TFDistilBertForSequenceClassification were initialized from the model checkpoint at ./saved_models/distilbert_cfpb_product_finetune_20220817.\n",
      "If your task is similar to the task the model of the checkpoint was trained on, you can already use TFDistilBertForSequenceClassification for predictions without further training.\n"
     ]
    },
    {
     "name": "stdout",
     "output_type": "stream",
     "text": [
      "Model: \"tf_distil_bert_for_sequence_classification\"\n",
      "_________________________________________________________________\n",
      " Layer (type)                Output Shape              Param #   \n",
      "=================================================================\n",
      " distilbert (TFDistilBertMai  multiple                 66362880  \n",
      " nLayer)                                                         \n",
      "                                                                 \n",
      " pre_classifier (Dense)      multiple                  590592    \n",
      "                                                                 \n",
      " classifier (Dense)          multiple                  8459      \n",
      "                                                                 \n",
      " dropout_19 (Dropout)        multiple                  0         \n",
      "                                                                 \n",
      "=================================================================\n",
      "Total params: 66,961,931\n",
      "Trainable params: 66,961,931\n",
      "Non-trainable params: 0\n",
      "_________________________________________________________________\n"
     ]
    }
   ],
   "source": [
    "# Sample run load_model()\n",
    "model_ckpt = \"distilbert-base-uncased\"\n",
    "labels = list(cfpb_product_label2int.values())\n",
    "num_labels = len(labels)\n",
    "random_seed = 287 ## SET SEED below for model\n",
    "\n",
    "tf_model_ldir = \"./saved_models/\"\n",
    "tf_model_lfn = \"distilbert_cfpb_product_finetune_20220817\" # Saved DistilBERT-product model on full CFPB data\n",
    "model_load_path = os.path.join(tf_model_ldir, tf_model_lfn)\n",
    "\n",
    "load_model = True  # True to load from model_load_path; False to load vanilla pre-trained model from model_ckpt \n",
    "if load_model: \n",
    "    tf_model_dbert_p = mu.load_model(num_labels, model_ckpt=None, model_load_path=model_load_path)\n",
    "else: \n",
    "    tf_model_dbert_p = mu.load_model(num_labels, model_ckpt=model_ckpt, model_load_path=None)\n",
    "\n",
    "tf_model_dbert_p.summary()"
   ]
  },
  {
   "cell_type": "code",
   "execution_count": 16,
   "id": "7906a92c",
   "metadata": {},
   "outputs": [
    {
     "name": "stdout",
     "output_type": "stream",
     "text": [
      "Model not fine-tuned\n",
      " - model_ckpt: tf_distil_bert_for_sequence_classification, model.name: tf_distil_bert_for_sequence_classification\n"
     ]
    }
   ],
   "source": [
    "# Sample run finetune_save_model()\n",
    "# Save model directory\n",
    "tf_model_sdir = \"./saved_models/\"\n",
    "tf_model_sfn = \"distilbert_cfpb_product_finetune_20230219\" # Saved DistilBERT-product model ft on full CFPB data\n",
    "model_save_path = os.path.join(tf_model_sdir, tf_model_sfn)\n",
    "batch_size = 32\n",
    "epochs = 1 # 2 or 3\n",
    "finetune_model = False   # Change to True to fine-tune model\n",
    "history = mu.finetune_and_save_model(tf_model_dbert_p, tf_train_dataset_dbert, tf_val_dataset_dbert, \n",
    "                                     batch_size, epochs, model_save_path, finetune_model=finetune_model)\n",
    "# tf_model_dbert_p, history"
   ]
  },
  {
   "cell_type": "markdown",
   "id": "7d7173cc",
   "metadata": {},
   "source": [
    "## DestilBERT `product` model performance (11 labels)\n"
   ]
  },
  {
   "cell_type": "code",
   "execution_count": 17,
   "id": "04f5ca89",
   "metadata": {},
   "outputs": [
    {
     "name": "stdout",
     "output_type": "stream",
     "text": [
      "Reading saved model output for dataset `tf_test_dataset_dbert`\n",
      "from saved_data_path: ./saved_data/cfpb_dbert_test_20221202.h5\n",
      "Loading model output from saved_data_path: ./saved_data/cfpb_dbert_test_20221202.h5\n",
      "Model: distilbert-base-uncased\n",
      "Test metrics - accuracy: 87.72, precision: 87.53, F1: 87.56\n",
      "\n",
      "CPU times: user 42.4 ms, sys: 18 ms, total: 60.4 ms\n",
      "Wall time: 83.8 ms\n"
     ]
    }
   ],
   "source": [
    "%%time\n",
    "# DistilBERT Test scores\n",
    "model_ckpt = \"distilbert-base-uncased\"\n",
    "run_model = False # Set to True to run model \n",
    "saved_data_dir = \"./saved_data/\"\n",
    "saved_datah5_fn = \"cfpb_dbert_test_20221202.h5\"\n",
    "saved_data_path = os.path.join(saved_data_dir, saved_datah5_fn)\n",
    "y_preds_test_logits_dbert_p = mu.model_run_and_save(tf_model_dbert_p, tf_test_dataset_dbert, \n",
    "                                     saved_data_path, ds_name=\"tf_test_dataset_dbert\", run_model=run_model)\n",
    "\n",
    "y_test = np.array(cfpb_ds_encoded_dbert[\"test\"][\"pid\"])\n",
    "y_preds_test = y_preds_test_logits_dbert_p.argmax(-1)\n",
    "m_test = mu.compute_metrics(y_test, y_preds_test)\n",
    "(acc, p, f1) = 100*m_test['accuracy'], 100*m_test['precision'], 100*m_test['f1']\n",
    "print(f\"Model: {model_ckpt}\\nTest metrics - accuracy: {acc:.2f}, precision: {p:.2f}, F1: {f1:.2f}\\n\")"
   ]
  },
  {
   "cell_type": "code",
   "execution_count": 18,
   "id": "39c3ccaa",
   "metadata": {},
   "outputs": [
    {
     "name": "stdout",
     "output_type": "stream",
     "text": [
      "Model: distilbert-base-uncased\n",
      "Test - Classification Report\n",
      "                         precision    recall  f1-score   support\n",
      "\n",
      "Bank account or service       0.92      0.81      0.86       564\n",
      "          Consumer Loan       0.79      0.76      0.78       368\n",
      "            Credit card       0.85      0.85      0.85       719\n",
      "       Credit reporting       0.88      0.92      0.90      1118\n",
      "        Debt collection       0.85      0.85      0.85      1164\n",
      "        Money transfers       0.64      0.64      0.64        42\n",
      "               Mortgage       0.94      0.97      0.95      1278\n",
      "Other financial service       0.00      0.00      0.00         9\n",
      "            Payday loan       0.68      0.55      0.61        62\n",
      "           Prepaid card       0.70      0.76      0.73        34\n",
      "           Student loan       0.89      0.90      0.89       145\n",
      "\n",
      "               accuracy                           0.88      5503\n",
      "              macro avg       0.74      0.73      0.73      5503\n",
      "           weighted avg       0.88      0.88      0.88      5503\n",
      "\n"
     ]
    }
   ],
   "source": [
    "# Test classification Report\n",
    "print(f\"Model: {model_ckpt}\\nTest - Classification Report\")\n",
    "print(sklearn.metrics.classification_report(y_test, y_preds_test, labels=labels, target_names=cfpb_product_names))"
   ]
  },
  {
   "cell_type": "code",
   "execution_count": 19,
   "id": "82799f8b",
   "metadata": {},
   "outputs": [
    {
     "data": {
      "image/png": "[encoded data removed]",
      "text/plain": [
       "<Figure size 648x432 with 2 Axes>"
      ]
     },
     "metadata": {
      "needs_background": "light"
     },
     "output_type": "display_data"
    }
   ],
   "source": [
    "# Test confusion matrix\n",
    "mu.plot_confusion_matrix(y_preds_test, y_test, cfpb_product_names, f\"Model: {model_ckpt}\\nTest\", figsize=(9,6))"
   ]
  },
  {
   "cell_type": "markdown",
   "id": "7132e667",
   "metadata": {},
   "source": [
    "<hr/>\n",
    "\n",
    "# <a id=\"finbert\">FinBERT Transformer Model</a>\n",
    "\n",
    "## End-to-end fine-tune: `product` classifier\n",
    "\n",
    "### FinBERT\n",
    "* model_ckpt = \"ProsusAI/finbert\"\n",
    "* Model: tf_bert_for_sequence_classification (FinBERT)\n",
    "* Total params: 109,490,699\n",
    "* FinBERT size - Downloading: 100% 418M/418M [00:09<00:00, 46.7MB/s]\n",
    "\n",
    "### Notes\n",
    "* tokenizer with hf.AutoTokenizer.from_pretrained(\"ProsusAI/finbert\")\n",
    "* End-to-end fine-tuning of hf.TFAutoModelForSequenceClassification(\"ProsusAI/finbert\")\n",
    "* Training for two epochs with batch size 32\n",
    "\n",
    "[top](#toc) "
   ]
  },
  {
   "cell_type": "code",
   "execution_count": 20,
   "id": "1b429757",
   "metadata": {},
   "outputs": [
    {
     "name": "stdout",
     "output_type": "stream",
     "text": [
      "Model name: ProsusAI/finbert, tokenizer.model_input_names: ['input_ids', 'token_type_ids', 'attention_mask']\n"
     ]
    },
    {
     "data": {
      "application/vnd.jupyter.widget-view+json": {
       "model_id": "9d0825eda1694983b71cb16dfa7b8d2b",
       "version_major": 2,
       "version_minor": 0
      },
      "text/plain": [
       "  0%|          | 0/1 [00:00<?, ?ba/s]"
      ]
     },
     "metadata": {},
     "output_type": "display_data"
    },
    {
     "data": {
      "application/vnd.jupyter.widget-view+json": {
       "model_id": "dc329a63dcbc4569ab2c3cf6f2cef0b3",
       "version_major": 2,
       "version_minor": 0
      },
      "text/plain": [
       "  0%|          | 0/1 [00:00<?, ?ba/s]"
      ]
     },
     "metadata": {},
     "output_type": "display_data"
    },
    {
     "data": {
      "application/vnd.jupyter.widget-view+json": {
       "model_id": "34374cff36ee49208349c017f042b28a",
       "version_major": 2,
       "version_minor": 0
      },
      "text/plain": [
       "  0%|          | 0/1 [00:00<?, ?ba/s]"
      ]
     },
     "metadata": {},
     "output_type": "display_data"
    },
    {
     "name": "stdout",
     "output_type": "stream",
     "text": [
      "cfpb_ds_encoded_finbert.shape: {'train': (52585, 13), 'validation': (8718, 13), 'test': (5503, 13)}\n",
      "\n",
      "Dataset - cfpb_ds.shape: {'train': (52585, 10), 'validation': (8718, 10), 'test': (5503, 10)}\n",
      "\n",
      "CPU times: user 2min 11s, sys: 5.8 s, total: 2min 17s\n",
      "Wall time: 34.4 s\n"
     ]
    }
   ],
   "source": [
    "%%time\n",
    "# FinBERT tokenizer: For paper \n",
    "model_ckpt = \"ProsusAI/finbert\"\n",
    "batch_size = 32\n",
    "tokenizer = hf.AutoTokenizer.from_pretrained(model_ckpt)\n",
    "print(f\"Model name: {model_ckpt}, tokenizer.model_input_names: {tokenizer.model_input_names}\")\n",
    "\n",
    "def tokenize(batch):\n",
    "    return tokenizer(batch[\"consumer_complaint_narrative\"], padding=True, truncation=True)\n",
    "\n",
    "# Tokenize dataset: train, validation, test\n",
    "cfpb_ds_encoded_finbert = cfpb_ds.map(tokenize, batched=True, batch_size=None)\n",
    "print(f\"cfpb_ds_encoded_finbert.shape: {cfpb_ds_encoded_finbert.shape}\\n\")\n",
    "\n",
    "tokenizer_columns = tokenizer.model_input_names\n",
    "random_seed = 287\n",
    "\n",
    "# label vs. label_int columns; \n",
    "tf_train_dataset_finbert = cfpb_ds_encoded_finbert[\"train\"].to_tf_dataset(\n",
    "    columns=tokenizer_columns, label_cols=[\"pid\"], shuffle=True, batch_size=batch_size)\n",
    "tf_val_dataset_finbert = cfpb_ds_encoded_finbert[\"validation\"].to_tf_dataset(\n",
    "    columns=tokenizer_columns, label_cols=[\"pid\"], shuffle=False, batch_size=batch_size)\n",
    "tf_test_dataset_finbert = cfpb_ds_encoded_finbert[\"test\"].to_tf_dataset(\n",
    "    columns=tokenizer_columns, label_cols=[\"pid\"], shuffle=False, batch_size=batch_size)\n",
    "print(f\"Dataset - cfpb_ds.shape: {cfpb_ds.shape}\\n\")"
   ]
  },
  {
   "cell_type": "code",
   "execution_count": 21,
   "id": "4a581380",
   "metadata": {},
   "outputs": [
    {
     "name": "stdout",
     "output_type": "stream",
     "text": [
      " Unique product ids: [ 0  1  2  3  4  5  6  7  8  9 10]\n"
     ]
    }
   ],
   "source": [
    "# Verify product, issue encodings (pid, iid)\n",
    "pid_train = cfpb_ds_encoded_finbert[\"train\"]['pid']\n",
    "print(f\" Unique product ids: {np.unique(pid_train)}\")"
   ]
  },
  {
   "cell_type": "code",
   "execution_count": 22,
   "id": "a53d6b5f",
   "metadata": {},
   "outputs": [
    {
     "name": "stdout",
     "output_type": "stream",
     "text": [
      "Loading model from dir: ./saved_models/ProsusAI_finbert_cfpb_product_finetune_20220831\n"
     ]
    },
    {
     "name": "stderr",
     "output_type": "stream",
     "text": [
      "Some layers from the model checkpoint at ./saved_models/ProsusAI_finbert_cfpb_product_finetune_20220831 were not used when initializing TFBertForSequenceClassification: ['dropout_37']\n",
      "- This IS expected if you are initializing TFBertForSequenceClassification from the checkpoint of a model trained on another task or with another architecture (e.g. initializing a BertForSequenceClassification model from a BertForPreTraining model).\n",
      "- This IS NOT expected if you are initializing TFBertForSequenceClassification from the checkpoint of a model that you expect to be exactly identical (initializing a BertForSequenceClassification model from a BertForSequenceClassification model).\n",
      "All the layers of TFBertForSequenceClassification were initialized from the model checkpoint at ./saved_models/ProsusAI_finbert_cfpb_product_finetune_20220831.\n",
      "If your task is similar to the task the model of the checkpoint was trained on, you can already use TFBertForSequenceClassification for predictions without further training.\n"
     ]
    },
    {
     "name": "stdout",
     "output_type": "stream",
     "text": [
      "Model: \"tf_bert_for_sequence_classification\"\n",
      "_________________________________________________________________\n",
      " Layer (type)                Output Shape              Param #   \n",
      "=================================================================\n",
      " bert (TFBertMainLayer)      multiple                  109482240 \n",
      "                                                                 \n",
      " dropout_57 (Dropout)        multiple                  0         \n",
      "                                                                 \n",
      " classifier (Dense)          multiple                  8459      \n",
      "                                                                 \n",
      "=================================================================\n",
      "Total params: 109,490,699\n",
      "Trainable params: 109,490,699\n",
      "Non-trainable params: 0\n",
      "_________________________________________________________________\n"
     ]
    }
   ],
   "source": [
    "# Sample run load_model()\n",
    "# Model checkpoint\n",
    "model_ckpt = \"ProsusAI/finbert\"\n",
    "labels = list(cfpb_product_label2int.values())\n",
    "num_labels = len(labels)\n",
    "random_seed = 287 ## SET SEED below for model\n",
    "\n",
    "tf_model_ldir = \"./saved_models/\"\n",
    "tf_model_lfn = \"ProsusAI_finbert_cfpb_product_finetune_20220831\" # Saved FinBERT-product model on full CFPB data\n",
    "model_load_path = os.path.join(tf_model_ldir, tf_model_lfn)\n",
    "\n",
    "load_model = True  # True to load from model_load_path; False to load vanilla pre-trained model from model_ckpt \n",
    "if load_model: \n",
    "    tf_model_finbert_p = mu.load_model(num_labels, model_ckpt=None, model_load_path=model_load_path)\n",
    "else: \n",
    "    tf_model_finbert_p = mu.load_model(num_labels, model_ckpt=model_ckpt, model_load_path=None)\n",
    "\n",
    "tf_model_finbert_p.summary()"
   ]
  },
  {
   "cell_type": "code",
   "execution_count": 23,
   "id": "85f0d7f0",
   "metadata": {},
   "outputs": [
    {
     "name": "stdout",
     "output_type": "stream",
     "text": [
      "Model not fine-tuned\n",
      " - model_ckpt: tf_bert_for_sequence_classification, model.name: tf_bert_for_sequence_classification\n"
     ]
    }
   ],
   "source": [
    "# Sample run finetune_save_model()\n",
    "tf_model_sdir = \"./saved_models/\"\n",
    "tf_model_sfn = \"ProsusAI_finbert_cfpb_product_finetune_20230219\" # Save FinBERT-product model ft on full CFPB data\n",
    "model_save_path = os.path.join(tf_model_sdir, tf_model_sfn)\n",
    "batch_size = 32\n",
    "epochs = 1 # 2 or 3\n",
    "finetune_model = False   # Change to True to fine-tune model\n",
    "history = mu.finetune_and_save_model(tf_model_finbert_p, tf_train_dataset_dbert, tf_val_dataset_dbert, \n",
    "                                     batch_size, epochs, model_save_path, finetune_model=finetune_model)\n",
    "# tf_model_dbert_p, history"
   ]
  },
  {
   "cell_type": "markdown",
   "id": "b78ffe54",
   "metadata": {},
   "source": [
    "## FinBERT `product` model performance (11 labels)\n"
   ]
  },
  {
   "cell_type": "code",
   "execution_count": 24,
   "id": "eae22faa",
   "metadata": {},
   "outputs": [
    {
     "name": "stdout",
     "output_type": "stream",
     "text": [
      "Reading saved model output for dataset `tf_test_dataset_finbert`\n",
      "from saved_data_path: ./saved_data/cfpb_finbert_test_20221125.h5\n",
      "Loading model output from saved_data_path: ./saved_data/cfpb_finbert_test_20221125.h5\n",
      "Model: ProsusAI/finbert\n",
      "Test metrics - accuracy: 87.61, precision: 87.55, F1: 87.35\n",
      "\n",
      "CPU times: user 17.1 ms, sys: 3.16 ms, total: 20.2 ms\n",
      "Wall time: 20.4 ms\n"
     ]
    }
   ],
   "source": [
    "%%time\n",
    "# FinBERT Test scores\n",
    "run_model = False # Set to True to run model \n",
    "saved_data_dir = \"./saved_data/\"\n",
    "saved_datah5_fn = \"cfpb_finbert_test_20221125.h5\"\n",
    "saved_data_path = os.path.join(saved_data_dir, saved_datah5_fn)\n",
    "model_ckpt = \"ProsusAI/finbert\"\n",
    "y_preds_test_logits_finbert_p = mu.model_run_and_save(tf_model_finbert_p, tf_test_dataset_finbert, \n",
    "    saved_data_path, ds_name=\"tf_test_dataset_finbert\", run_model=run_model)\n",
    "\n",
    "y_test = np.array(cfpb_ds_encoded_finbert[\"test\"][\"pid\"])\n",
    "y_preds_test = y_preds_test_logits_finbert_p.argmax(-1)\n",
    "m_test = mu.compute_metrics(y_test, y_preds_test)\n",
    "(acc, p, f1) = 100*m_test['accuracy'], 100*m_test['precision'], 100*m_test['f1']\n",
    "print(f\"Model: {model_ckpt}\\nTest metrics - accuracy: {acc:.2f}, precision: {p:.2f}, F1: {f1:.2f}\\n\")"
   ]
  },
  {
   "cell_type": "code",
   "execution_count": 25,
   "id": "d23e69fa",
   "metadata": {},
   "outputs": [
    {
     "name": "stdout",
     "output_type": "stream",
     "text": [
      "Model: ProsusAI/finbert\n",
      "Test - Classification Report\n",
      "                         precision    recall  f1-score   support\n",
      "\n",
      "Bank account or service       0.90      0.80      0.85       564\n",
      "          Consumer Loan       0.84      0.74      0.79       368\n",
      "            Credit card       0.83      0.90      0.86       719\n",
      "       Credit reporting       0.87      0.94      0.91      1118\n",
      "        Debt collection       0.88      0.80      0.84      1164\n",
      "        Money transfers       0.78      0.60      0.68        42\n",
      "               Mortgage       0.92      0.97      0.95      1278\n",
      "Other financial service       0.00      0.00      0.00         9\n",
      "            Payday loan       0.76      0.47      0.58        62\n",
      "           Prepaid card       0.55      0.88      0.67        34\n",
      "           Student loan       0.81      0.92      0.86       145\n",
      "\n",
      "               accuracy                           0.88      5503\n",
      "              macro avg       0.74      0.73      0.73      5503\n",
      "           weighted avg       0.88      0.88      0.87      5503\n",
      "\n"
     ]
    }
   ],
   "source": [
    "# Test classification Report\n",
    "print(f\"Model: {model_ckpt}\\nTest - Classification Report\")\n",
    "print(sklearn.metrics.classification_report(y_test, y_preds_test, labels=labels, target_names=cfpb_product_names))"
   ]
  },
  {
   "cell_type": "code",
   "execution_count": 26,
   "id": "398aa743",
   "metadata": {},
   "outputs": [
    {
     "data": {
      "image/png": "[encoded data removed]",
      "text/plain": [
       "<Figure size 648x432 with 2 Axes>"
      ]
     },
     "metadata": {
      "needs_background": "light"
     },
     "output_type": "display_data"
    }
   ],
   "source": [
    "# Test confusion matrix\n",
    "mu.plot_confusion_matrix(y_preds_test, y_test, cfpb_product_names, f\"Model: {model_ckpt}\\nTest\", figsize=(9,6))"
   ]
  },
  {
   "cell_type": "markdown",
   "id": "d483f3b1",
   "metadata": {},
   "source": [
    "# <a id=\"performance\">Model performance with transformers</a>\n",
    "\n",
    "Model performance for DistilBERT, FinBERT\n",
    "\n",
    "* Accuracy, Precision, Recall, F1\n",
    "\n",
    "\n",
    "[top](#toc) "
   ]
  },
  {
   "cell_type": "code",
   "execution_count": 27,
   "id": "1b623e4c",
   "metadata": {},
   "outputs": [
    {
     "name": "stdout",
     "output_type": "stream",
     "text": [
      "Model: distilbert-base-uncased\n",
      "Test metrics - accuracy: 87.72, precision: 87.53, F1: 87.56\n",
      "\n"
     ]
    }
   ],
   "source": [
    "# DistilBERT Test scores\n",
    "model_ckpt = \"distilbert-base-uncased\"\n",
    "y_test = np.array(cfpb_ds_encoded_dbert[\"test\"][\"pid\"])\n",
    "y_preds_test = y_preds_test_logits_dbert_p.argmax(-1)\n",
    "m_test = mu.compute_metrics(y_test, y_preds_test)\n",
    "(acc, p, f1) = 100*m_test['accuracy'], 100*m_test['precision'], 100*m_test['f1']\n",
    "print(f\"Model: {model_ckpt}\\nTest metrics - accuracy: {acc:.2f}, precision: {p:.2f}, F1: {f1:.2f}\\n\")"
   ]
  },
  {
   "cell_type": "code",
   "execution_count": 28,
   "id": "ccb243a2",
   "metadata": {},
   "outputs": [
    {
     "name": "stdout",
     "output_type": "stream",
     "text": [
      "Model: ProsusAI/finbert\n",
      "Test metrics - accuracy: 87.61, precision: 87.55, F1: 87.35\n",
      "\n"
     ]
    }
   ],
   "source": [
    "# FinBERT Test scores\n",
    "model_ckpt = \"ProsusAI/finbert\"\n",
    "y_test = np.array(cfpb_ds_encoded_finbert[\"test\"][\"pid\"])\n",
    "y_preds_test = y_preds_test_logits_finbert_p.argmax(-1)\n",
    "m_test = mu.compute_metrics(y_test, y_preds_test)\n",
    "(acc, p, f1) = 100*m_test['accuracy'], 100*m_test['precision'], 100*m_test['f1']\n",
    "print(f\"Model: {model_ckpt}\\nTest metrics - accuracy: {acc:.2f}, precision: {p:.2f}, F1: {f1:.2f}\\n\")"
   ]
  },
  {
   "cell_type": "code",
   "execution_count": 29,
   "id": "3f8c1b4c",
   "metadata": {},
   "outputs": [],
   "source": [
    "# EOF"
   ]
  }
 ],
 "metadata": {
  "kernelspec": {
   "display_name": "Python 3 (ipykernel)",
   "language": "python",
   "name": "python3"
  },
  "language_info": {
   "codemirror_mode": {
    "name": "ipython",
    "version": 3
   },
   "file_extension": ".py",
   "mimetype": "text/x-python",
   "name": "python",
   "nbconvert_exporter": "python",
   "pygments_lexer": "ipython3",
   "version": "3.9.12"
  }
 },
 "nbformat": 4,
 "nbformat_minor": 5
}
