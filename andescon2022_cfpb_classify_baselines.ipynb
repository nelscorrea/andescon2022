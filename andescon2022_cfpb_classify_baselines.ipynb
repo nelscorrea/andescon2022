{
 "cells": [
  {
   "cell_type": "markdown",
   "id": "a1d4329b",
   "metadata": {},
   "source": [
    "# CFPB Text Classification Baselines\n",
    "11/18/2022\n",
    "\n",
    "Text classification on the Consumer Financial Protection Bureau (CFPB) Consumer Financial Complaints Database.\n",
    "\n",
    "* andescon2022_cfpb_classify_baselines.ipynb\n",
    "* andescon2022_cfpb_classify_transformer.ipynb\n",
    "\n",
    "## IEEE ANDESCON 2022\n",
    "\n",
    "IEEE Andean Conference: Technology and innovation, Barranquilla-Colombia, September 16-19, 2022\n",
    "\n",
    "* https://nelscorrea.github.io/andescon2022\n",
    "\n"
   ]
  },
  {
   "cell_type": "code",
   "execution_count": 1,
   "id": "9732a03c",
   "metadata": {},
   "outputs": [
    {
     "name": "stdout",
     "output_type": "stream",
     "text": [
      "Versions - NumPy 1.22.4, pandas 1.4.3, sklearn 1.1.1\n",
      "Versions - TensorFlow: 2.9.1,\t Keras: 2.9.0\n"
     ]
    }
   ],
   "source": [
    "import numpy as np\n",
    "import pandas as pd\n",
    "import sklearn as sk\n",
    "import tensorflow as tf\n",
    "\n",
    "import copy, os, re, sys\n",
    "from datetime import datetime\n",
    "from tqdm import tqdm\n",
    "\n",
    "%matplotlib inline\n",
    "import matplotlib.pyplot as plt\n",
    "import seaborn as sns\n",
    "import warnings\n",
    "warnings.filterwarnings(\"ignore\")\n",
    "\n",
    "print(f\"Versions - NumPy {np.__version__}, pandas {pd.__version__}, sklearn {sk.__version__}\")\n",
    "print(f\"Versions - TensorFlow: {tf.__version__},\\t Keras: {tf.keras.__version__}\")"
   ]
  },
  {
   "cell_type": "markdown",
   "id": "de409fd2",
   "metadata": {},
   "source": [
    "# <a id=\"toc\">Contents</a>\n",
    "\n",
    "* [CFPB Consumer Financial Complaints Dataset - EDA](#eda)\n",
    "* [TF-IDF Vectorizing](#tf-idf-vectorizing)\n",
    "* [CFPB Dataset split](#dataset-split)\n",
    "* [MNB Model: Multinomial Naive Bayes Classifier](#model-mnb)\n",
    "* [MLP Model: Multilayer Perceptron Classifier](#model-mlp)\n",
    "* [LSTM Model: Long Short Term Memory Model](#model-lstm)\n",
    "* [Summary Performance](#summary-performance)\n",
    "\n"
   ]
  },
  {
   "cell_type": "code",
   "execution_count": 2,
   "id": "0c671342",
   "metadata": {},
   "outputs": [
    {
     "name": "stdout",
     "output_type": "stream",
     "text": [
      "/Users/nelson/dev/nctalks/nlp/categorization/cfpb_20220612\n",
      "--2022-12-16 02:29:45--  https://github.com/nelscorrea/datasets/raw/main/cfpb/consumer_complaints.csv.gz\n",
      "Resolving github.com (github.com)... 140.82.112.3\n",
      "Connecting to github.com (github.com)|140.82.112.3|:443... connected.\n",
      "HTTP request sent, awaiting response... 302 Found\n",
      "Location: https://raw.githubusercontent.com/nelscorrea/datasets/main/cfpb/consumer_complaints.csv.gz [following]\n",
      "--2022-12-16 02:29:45--  https://raw.githubusercontent.com/nelscorrea/datasets/main/cfpb/consumer_complaints.csv.gz\n",
      "Resolving raw.githubusercontent.com (raw.githubusercontent.com)... 2606:50c0:8003::154, 2606:50c0:8001::154, 2606:50c0:8000::154, ...\n",
      "Connecting to raw.githubusercontent.com (raw.githubusercontent.com)|2606:50c0:8003::154|:443... connected.\n",
      "HTTP request sent, awaiting response... 200 OK\n",
      "Length: 37943046 (36M) [application/octet-stream]\n",
      "Saving to: ‘data/consumer_complaints.csv.gz’\n",
      "\n",
      "consumer_complaints 100%[===================>]  36.18M  35.4MB/s    in 1.0s    \n",
      "\n",
      "2022-12-16 02:29:47 (35.4 MB/s) - ‘data/consumer_complaints.csv.gz’ saved [37943046/37943046]\n",
      "\n",
      "./data/consumer_complaints.csv.gz:\t   78.3% -- replaced with ./data/consumer_complaints.csv\n",
      "total 419072\n",
      "drwxr-xr-x   7 nelson  staff        224 Dec 16 02:29 \u001b[34m.\u001b[m\u001b[m\n",
      "drwxr-xr-x  28 nelson  staff        896 Dec 16 02:28 \u001b[34m..\u001b[m\u001b[m\n",
      "-rw-r--r--@  1 nelson  staff       6148 Dec 16 02:29 .DS_Store\n",
      "-rw-r--r--   1 nelson  staff    1014220 Dec 13 09:43 cfpbk-5k-consumer_complaints.csv\n",
      "-rw-r--r--   1 nelson  staff     174646 Dec 12 08:36 cfpbk-5k-consumer_complaints.csv.gz\n",
      "-rw-r--r--   1 nelson  staff  175385569 Dec 16 02:29 consumer_complaints.csv\n",
      "-rw-r--r--   1 nelson  staff   37943046 Dec 16 02:29 consumer_complaints.csv.gz\n"
     ]
    }
   ],
   "source": [
    "# Get CFPB data\n",
    "remote_data_uri = \"https://github.com/nelscorrea/datasets/raw/main/cfpb/consumer_complaints.csv.gz\"\n",
    "!pwd\n",
    "!wget -Pdata $remote_data_uri\n",
    "!gunzip -vfk ./data/consumer_complaints.csv.gz\n",
    "!ls -la data"
   ]
  },
  {
   "cell_type": "markdown",
   "id": "50d56a35",
   "metadata": {},
   "source": [
    "# <a id=\"eda\">CFPB Consumer Financial Complaints Dataset - EDA</a>\n",
    "\n",
    "* CFPB Consumer Financial Complaints Database\n",
    "* CFPB URLs\n",
    "* Kaggle\n",
    "\n",
    "[top](#toc) "
   ]
  },
  {
   "cell_type": "code",
   "execution_count": 3,
   "id": "9e5ff870",
   "metadata": {},
   "outputs": [
    {
     "name": "stdout",
     "output_type": "stream",
     "text": [
      "READ path: ./data/\n",
      "READING ... cfpb_json_fn: consumer_complaints.csv\n",
      "ccd_df.shape: (555957, 18)\n",
      "ccd_df.columns: ['date_received', 'product', 'sub_product', 'issue', 'sub_issue', 'consumer_complaint_narrative', 'company_public_response', 'company', 'state', 'zipcode', 'tags', 'consumer_consent_provided', 'submitted_via', 'date_sent_to_company', 'company_response_to_consumer', 'timely_response', 'consumer_disputed?', 'complaint_id']\n",
      "\n",
      "CPU times: user 1.4 s, sys: 171 ms, total: 1.57 s\n",
      "Wall time: 1.58 s\n"
     ]
    },
    {
     "data": {
      "text/html": [
       "<div>\n",
       "<style scoped>\n",
       "    .dataframe tbody tr th:only-of-type {\n",
       "        vertical-align: middle;\n",
       "    }\n",
       "\n",
       "    .dataframe tbody tr th {\n",
       "        vertical-align: top;\n",
       "    }\n",
       "\n",
       "    .dataframe thead th {\n",
       "        text-align: right;\n",
       "    }\n",
       "</style>\n",
       "<table border=\"1\" class=\"dataframe\">\n",
       "  <thead>\n",
       "    <tr style=\"text-align: right;\">\n",
       "      <th></th>\n",
       "      <th>date_received</th>\n",
       "      <th>product</th>\n",
       "      <th>sub_product</th>\n",
       "      <th>issue</th>\n",
       "      <th>sub_issue</th>\n",
       "      <th>consumer_complaint_narrative</th>\n",
       "      <th>company_public_response</th>\n",
       "      <th>company</th>\n",
       "      <th>state</th>\n",
       "      <th>zipcode</th>\n",
       "      <th>tags</th>\n",
       "      <th>consumer_consent_provided</th>\n",
       "      <th>submitted_via</th>\n",
       "      <th>date_sent_to_company</th>\n",
       "      <th>company_response_to_consumer</th>\n",
       "      <th>timely_response</th>\n",
       "      <th>consumer_disputed?</th>\n",
       "      <th>complaint_id</th>\n",
       "    </tr>\n",
       "  </thead>\n",
       "  <tbody>\n",
       "    <tr>\n",
       "      <th>0</th>\n",
       "      <td>08/30/2013</td>\n",
       "      <td>Mortgage</td>\n",
       "      <td>Other mortgage</td>\n",
       "      <td>Loan modification,collection,foreclosure</td>\n",
       "      <td>NaN</td>\n",
       "      <td>NaN</td>\n",
       "      <td>NaN</td>\n",
       "      <td>U.S. Bancorp</td>\n",
       "      <td>CA</td>\n",
       "      <td>95993</td>\n",
       "      <td>NaN</td>\n",
       "      <td>NaN</td>\n",
       "      <td>Referral</td>\n",
       "      <td>09/03/2013</td>\n",
       "      <td>Closed with explanation</td>\n",
       "      <td>Yes</td>\n",
       "      <td>Yes</td>\n",
       "      <td>511074</td>\n",
       "    </tr>\n",
       "    <tr>\n",
       "      <th>1</th>\n",
       "      <td>08/30/2013</td>\n",
       "      <td>Mortgage</td>\n",
       "      <td>Other mortgage</td>\n",
       "      <td>Loan servicing, payments, escrow account</td>\n",
       "      <td>NaN</td>\n",
       "      <td>NaN</td>\n",
       "      <td>NaN</td>\n",
       "      <td>Wells Fargo &amp; Company</td>\n",
       "      <td>CA</td>\n",
       "      <td>91104</td>\n",
       "      <td>NaN</td>\n",
       "      <td>NaN</td>\n",
       "      <td>Referral</td>\n",
       "      <td>09/03/2013</td>\n",
       "      <td>Closed with explanation</td>\n",
       "      <td>Yes</td>\n",
       "      <td>Yes</td>\n",
       "      <td>511080</td>\n",
       "    </tr>\n",
       "    <tr>\n",
       "      <th>2</th>\n",
       "      <td>08/30/2013</td>\n",
       "      <td>Credit reporting</td>\n",
       "      <td>NaN</td>\n",
       "      <td>Incorrect information on credit report</td>\n",
       "      <td>Account status</td>\n",
       "      <td>NaN</td>\n",
       "      <td>NaN</td>\n",
       "      <td>Wells Fargo &amp; Company</td>\n",
       "      <td>NY</td>\n",
       "      <td>11764</td>\n",
       "      <td>NaN</td>\n",
       "      <td>NaN</td>\n",
       "      <td>Postal mail</td>\n",
       "      <td>09/18/2013</td>\n",
       "      <td>Closed with explanation</td>\n",
       "      <td>Yes</td>\n",
       "      <td>No</td>\n",
       "      <td>510473</td>\n",
       "    </tr>\n",
       "  </tbody>\n",
       "</table>\n",
       "</div>"
      ],
      "text/plain": [
       "  date_received           product     sub_product  \\\n",
       "0    08/30/2013          Mortgage  Other mortgage   \n",
       "1    08/30/2013          Mortgage  Other mortgage   \n",
       "2    08/30/2013  Credit reporting             NaN   \n",
       "\n",
       "                                      issue       sub_issue  \\\n",
       "0  Loan modification,collection,foreclosure             NaN   \n",
       "1  Loan servicing, payments, escrow account             NaN   \n",
       "2    Incorrect information on credit report  Account status   \n",
       "\n",
       "  consumer_complaint_narrative company_public_response                company  \\\n",
       "0                          NaN                     NaN           U.S. Bancorp   \n",
       "1                          NaN                     NaN  Wells Fargo & Company   \n",
       "2                          NaN                     NaN  Wells Fargo & Company   \n",
       "\n",
       "  state zipcode tags consumer_consent_provided submitted_via  \\\n",
       "0    CA   95993  NaN                       NaN      Referral   \n",
       "1    CA   91104  NaN                       NaN      Referral   \n",
       "2    NY   11764  NaN                       NaN   Postal mail   \n",
       "\n",
       "  date_sent_to_company company_response_to_consumer timely_response  \\\n",
       "0           09/03/2013      Closed with explanation             Yes   \n",
       "1           09/03/2013      Closed with explanation             Yes   \n",
       "2           09/18/2013      Closed with explanation             Yes   \n",
       "\n",
       "  consumer_disputed?  complaint_id  \n",
       "0                Yes        511074  \n",
       "1                Yes        511080  \n",
       "2                 No        510473  "
      ]
     },
     "execution_count": 3,
     "metadata": {},
     "output_type": "execute_result"
    }
   ],
   "source": [
    "%%time\n",
    "# CSV or JSON files\n",
    "cfpb_base = \"./data/\" # local data directory\n",
    "cfpb_kaggle_csv_fn = \"consumer_complaints.csv\"\n",
    "\n",
    "print(f\"READ path: {cfpb_base}\")\n",
    "print(f\"READING ... cfpb_json_fn: {cfpb_kaggle_csv_fn}\")\n",
    "ccd_df = pd.read_csv(cfpb_base+cfpb_kaggle_csv_fn)\n",
    "\n",
    "print(f\"ccd_df.shape: {ccd_df.shape}\")\n",
    "print(f\"ccd_df.columns: {ccd_df.columns.to_list()}\\n\")\n",
    "ccd_df.head(3)"
   ]
  },
  {
   "cell_type": "code",
   "execution_count": 4,
   "id": "6e2146b9",
   "metadata": {},
   "outputs": [
    {
     "name": "stdout",
     "output_type": "stream",
     "text": [
      "Complaints total: 555,957, non-empty narrative: 66,806 (12.02%)\n",
      "CWH non-empty - ccd_df shape: (66806, 18)\n"
     ]
    },
    {
     "data": {
      "text/html": [
       "<div>\n",
       "<style scoped>\n",
       "    .dataframe tbody tr th:only-of-type {\n",
       "        vertical-align: middle;\n",
       "    }\n",
       "\n",
       "    .dataframe tbody tr th {\n",
       "        vertical-align: top;\n",
       "    }\n",
       "\n",
       "    .dataframe thead th {\n",
       "        text-align: right;\n",
       "    }\n",
       "</style>\n",
       "<table border=\"1\" class=\"dataframe\">\n",
       "  <thead>\n",
       "    <tr style=\"text-align: right;\">\n",
       "      <th></th>\n",
       "      <th>date_received</th>\n",
       "      <th>product</th>\n",
       "      <th>sub_product</th>\n",
       "      <th>issue</th>\n",
       "      <th>sub_issue</th>\n",
       "      <th>consumer_complaint_narrative</th>\n",
       "      <th>company_public_response</th>\n",
       "      <th>company</th>\n",
       "      <th>state</th>\n",
       "      <th>zipcode</th>\n",
       "      <th>tags</th>\n",
       "      <th>consumer_consent_provided</th>\n",
       "      <th>submitted_via</th>\n",
       "      <th>date_sent_to_company</th>\n",
       "      <th>company_response_to_consumer</th>\n",
       "      <th>timely_response</th>\n",
       "      <th>consumer_disputed?</th>\n",
       "      <th>complaint_id</th>\n",
       "    </tr>\n",
       "  </thead>\n",
       "  <tbody>\n",
       "    <tr>\n",
       "      <th>553086</th>\n",
       "      <td>02/11/2016</td>\n",
       "      <td>Payday loan</td>\n",
       "      <td>Payday loan</td>\n",
       "      <td>Charged fees or interest I didn't expect</td>\n",
       "      <td>Charged fees or interest I didn't expect</td>\n",
       "      <td>I have been paying {$180.00} a month through d...</td>\n",
       "      <td>NaN</td>\n",
       "      <td>Zarvad III S.A.</td>\n",
       "      <td>NV</td>\n",
       "      <td>891XX</td>\n",
       "      <td>Servicemember</td>\n",
       "      <td>Consent provided</td>\n",
       "      <td>Web</td>\n",
       "      <td>02/11/2016</td>\n",
       "      <td>Closed with explanation</td>\n",
       "      <td>Yes</td>\n",
       "      <td>No</td>\n",
       "      <td>1782804</td>\n",
       "    </tr>\n",
       "    <tr>\n",
       "      <th>553090</th>\n",
       "      <td>03/30/2016</td>\n",
       "      <td>Mortgage</td>\n",
       "      <td>Conventional fixed mortgage</td>\n",
       "      <td>Application, originator, mortgage broker</td>\n",
       "      <td>NaN</td>\n",
       "      <td>I recently became aware that Amerisave Mortgag...</td>\n",
       "      <td>Company believes it acted appropriately as aut...</td>\n",
       "      <td>Amerisave</td>\n",
       "      <td>AZ</td>\n",
       "      <td>853XX</td>\n",
       "      <td>NaN</td>\n",
       "      <td>Consent provided</td>\n",
       "      <td>Web</td>\n",
       "      <td>03/30/2016</td>\n",
       "      <td>Closed with explanation</td>\n",
       "      <td>Yes</td>\n",
       "      <td>Yes</td>\n",
       "      <td>1855199</td>\n",
       "    </tr>\n",
       "    <tr>\n",
       "      <th>553096</th>\n",
       "      <td>02/12/2016</td>\n",
       "      <td>Mortgage</td>\n",
       "      <td>Conventional fixed mortgage</td>\n",
       "      <td>Application, originator, mortgage broker</td>\n",
       "      <td>NaN</td>\n",
       "      <td>Bank of America has demonstrated an on-going l...</td>\n",
       "      <td>Company has responded to the consumer and the ...</td>\n",
       "      <td>Bank of America</td>\n",
       "      <td>GA</td>\n",
       "      <td>300XX</td>\n",
       "      <td>NaN</td>\n",
       "      <td>Consent provided</td>\n",
       "      <td>Web</td>\n",
       "      <td>02/12/2016</td>\n",
       "      <td>Closed with explanation</td>\n",
       "      <td>Yes</td>\n",
       "      <td>Yes</td>\n",
       "      <td>1786225</td>\n",
       "    </tr>\n",
       "  </tbody>\n",
       "</table>\n",
       "</div>"
      ],
      "text/plain": [
       "       date_received      product                  sub_product  \\\n",
       "553086    02/11/2016  Payday loan                  Payday loan   \n",
       "553090    03/30/2016     Mortgage  Conventional fixed mortgage   \n",
       "553096    02/12/2016     Mortgage  Conventional fixed mortgage   \n",
       "\n",
       "                                           issue  \\\n",
       "553086  Charged fees or interest I didn't expect   \n",
       "553090  Application, originator, mortgage broker   \n",
       "553096  Application, originator, mortgage broker   \n",
       "\n",
       "                                       sub_issue  \\\n",
       "553086  Charged fees or interest I didn't expect   \n",
       "553090                                       NaN   \n",
       "553096                                       NaN   \n",
       "\n",
       "                             consumer_complaint_narrative  \\\n",
       "553086  I have been paying {$180.00} a month through d...   \n",
       "553090  I recently became aware that Amerisave Mortgag...   \n",
       "553096  Bank of America has demonstrated an on-going l...   \n",
       "\n",
       "                                  company_public_response          company  \\\n",
       "553086                                                NaN  Zarvad III S.A.   \n",
       "553090  Company believes it acted appropriately as aut...        Amerisave   \n",
       "553096  Company has responded to the consumer and the ...  Bank of America   \n",
       "\n",
       "       state zipcode           tags consumer_consent_provided submitted_via  \\\n",
       "553086    NV   891XX  Servicemember          Consent provided           Web   \n",
       "553090    AZ   853XX            NaN          Consent provided           Web   \n",
       "553096    GA   300XX            NaN          Consent provided           Web   \n",
       "\n",
       "       date_sent_to_company company_response_to_consumer timely_response  \\\n",
       "553086           02/11/2016      Closed with explanation             Yes   \n",
       "553090           03/30/2016      Closed with explanation             Yes   \n",
       "553096           02/12/2016      Closed with explanation             Yes   \n",
       "\n",
       "       consumer_disputed?  complaint_id  \n",
       "553086                 No       1782804  \n",
       "553090                Yes       1855199  \n",
       "553096                Yes       1786225  "
      ]
     },
     "execution_count": 4,
     "metadata": {},
     "output_type": "execute_result"
    }
   ],
   "source": [
    "# CWH non-empty narrative\n",
    "cwh_text = ccd_df['consumer_complaint_narrative'].notna()\n",
    "cwh_notna = np.sum(cwh_text)\n",
    "cwh_total = ccd_df.shape[0]\n",
    "cwh_notnap = 100*cwh_notna/cwh_total\n",
    "print(\"Complaints total: {0:,d}, non-empty narrative: {1:,d} ({2:.2f}%)\".format(cwh_total, cwh_notna, cwh_notnap))\n",
    "\n",
    "ccd_df = ccd_df[cwh_text]\n",
    "print(\"CWH non-empty - ccd_df shape: {0}\".format(ccd_df.shape))\n",
    "ccd_df.tail(3)"
   ]
  },
  {
   "cell_type": "code",
   "execution_count": 5,
   "id": "7bd40f11",
   "metadata": {},
   "outputs": [
    {
     "name": "stdout",
     "output_type": "stream",
     "text": [
      "m_meta_df.shape: (66806, 3)\n"
     ]
    },
    {
     "data": {
      "text/html": [
       "<div>\n",
       "<style scoped>\n",
       "    .dataframe tbody tr th:only-of-type {\n",
       "        vertical-align: middle;\n",
       "    }\n",
       "\n",
       "    .dataframe tbody tr th {\n",
       "        vertical-align: top;\n",
       "    }\n",
       "\n",
       "    .dataframe thead th {\n",
       "        text-align: right;\n",
       "    }\n",
       "</style>\n",
       "<table border=\"1\" class=\"dataframe\">\n",
       "  <thead>\n",
       "    <tr style=\"text-align: right;\">\n",
       "      <th></th>\n",
       "      <th>count</th>\n",
       "      <th>mean</th>\n",
       "      <th>std</th>\n",
       "      <th>min</th>\n",
       "      <th>25%</th>\n",
       "      <th>50%</th>\n",
       "      <th>75%</th>\n",
       "      <th>max</th>\n",
       "    </tr>\n",
       "  </thead>\n",
       "  <tbody>\n",
       "    <tr>\n",
       "      <th>Chars</th>\n",
       "      <td>66806.0</td>\n",
       "      <td>1039.587327</td>\n",
       "      <td>910.270430</td>\n",
       "      <td>10.0</td>\n",
       "      <td>391.0</td>\n",
       "      <td>740.0</td>\n",
       "      <td>1383.0</td>\n",
       "      <td>5153.0</td>\n",
       "    </tr>\n",
       "    <tr>\n",
       "      <th>Words</th>\n",
       "      <td>66806.0</td>\n",
       "      <td>190.644014</td>\n",
       "      <td>166.830597</td>\n",
       "      <td>1.0</td>\n",
       "      <td>71.0</td>\n",
       "      <td>136.0</td>\n",
       "      <td>254.0</td>\n",
       "      <td>1284.0</td>\n",
       "    </tr>\n",
       "  </tbody>\n",
       "</table>\n",
       "</div>"
      ],
      "text/plain": [
       "         count         mean         std   min    25%    50%     75%     max\n",
       "Chars  66806.0  1039.587327  910.270430  10.0  391.0  740.0  1383.0  5153.0\n",
       "Words  66806.0   190.644014  166.830597   1.0   71.0  136.0   254.0  1284.0"
      ]
     },
     "execution_count": 5,
     "metadata": {},
     "output_type": "execute_result"
    }
   ],
   "source": [
    "# Metadata for df: Char, Word counts\n",
    "meta_columns = [\"id\", \"Chars\", \"Words\"]\n",
    "m_meta_df = pd.DataFrame(columns=meta_columns)\n",
    "m_meta_df[[\"Chars\"]] = ccd_df[[\"consumer_complaint_narrative\"]].applymap(len)\n",
    "m_meta_df[[\"Words\"]] = ccd_df[[\"consumer_complaint_narrative\"]].applymap(lambda s: len(str.split(s)))\n",
    "print(\"m_meta_df.shape: {0}\".format(m_meta_df.shape))\n",
    "m_meta_df.describe().T"
   ]
  },
  {
   "cell_type": "code",
   "execution_count": 6,
   "id": "8d47995c",
   "metadata": {},
   "outputs": [
    {
     "name": "stdout",
     "output_type": "stream",
     "text": [
      "Total complaints with narrative: 66,806\n"
     ]
    },
    {
     "data": {
      "image/png": "[encoded data removed]",
      "text/plain": [
       "<Figure size 864x288 with 1 Axes>"
      ]
     },
     "metadata": {
      "needs_background": "light"
     },
     "output_type": "display_data"
    }
   ],
   "source": [
    "# Histogram: Chars, Words\n",
    "print(f\"Total complaints with narrative: {m_meta_df.shape[0]:,d}\") # ({cwh_notnap:.2f}%)\")\n",
    "title = 'CFPB Complaint Length in Words'\n",
    "xlabel = 'Complaint Length in Words'\n",
    "ylabel = 'Complaints Count'\n",
    "\n",
    "# ax = m_meta_df.hist(column=['Chars', 'Words'], bins=50, range=(0,950), rwidth=0.8,figsize=(12,4),grid=True)\n",
    "ax = m_meta_df[['Words']].plot(kind=\"hist\", bins=50, range=(0,950), title=title, rwidth=0.8,figsize=(12,4),grid=True)\n",
    "_ = ax.set(xlabel=xlabel, ylabel=ylabel)"
   ]
  },
  {
   "cell_type": "code",
   "execution_count": 7,
   "id": "c0c5bd27",
   "metadata": {},
   "outputs": [
    {
     "name": "stdout",
     "output_type": "stream",
     "text": [
      "Total complaints with narrative: 66,806\n"
     ]
    },
    {
     "data": {
      "image/png": "[encoded data removed]",
      "text/plain": [
       "<Figure size 648x360 with 1 Axes>"
      ]
     },
     "metadata": {
      "needs_background": "light"
     },
     "output_type": "display_data"
    }
   ],
   "source": [
    "# Product histogram: Normalize to 100% total count\n",
    "print(f\"Total complaints with narrative: {ccd_df.shape[0]:,d}\") # ({cwh_notnap:.2f}%)\")\n",
    "title = 'CFPB Label Counts (Product)'\n",
    "xlabel = 'Complaint Count'\n",
    "ylabel = 'CFPB Product Label'\n",
    "# plt.title(title, fontsize=18)\n",
    "ax = ccd_df.groupby([\"product\"]).count()[[\"complaint_id\"]].plot(\n",
    "    kind='barh', figsize=(9, 5), grid=True, title=title, ylabel=ylabel,  fontsize=14\n",
    ")\n",
    "_ = ax.set(xlabel=xlabel, ylabel=ylabel)"
   ]
  },
  {
   "cell_type": "markdown",
   "id": "41d03674",
   "metadata": {},
   "source": [
    "# <a id=\"tf-idf-vectorizing\">TF-IDF Vectorizing</a>\n",
    "\n",
    "Vectorizing full dataset (without split, with full vocabulary)\n",
    "\n",
    "[top](#toc) "
   ]
  },
  {
   "cell_type": "code",
   "execution_count": 8,
   "id": "aadfa4da",
   "metadata": {},
   "outputs": [
    {
     "name": "stdout",
     "output_type": "stream",
     "text": [
      "Complaints - Vocabulary_size: 54,080 \t Total words: 11,851,488\n",
      "\n",
      "CPU times: user 21.4 s, sys: 12.9 s, total: 34.3 s\n",
      "Wall time: 37.6 s\n"
     ]
    }
   ],
   "source": [
    "%%time\n",
    "# Sklearn\n",
    "from sklearn.feature_extraction.text import CountVectorizer\n",
    "\n",
    "texts = ccd_df[\"consumer_complaint_narrative\"]\n",
    "vectorizer = CountVectorizer()\n",
    "vectorizer.fit(texts)\n",
    "\n",
    "X_texts = vectorizer.transform(texts)\n",
    "texts_vectorized_df = pd.DataFrame(X_texts[:].toarray(), columns=vectorizer.get_feature_names())\n",
    "texts_wc = texts_vectorized_df.sum().sum()\n",
    "vocabulary_size = len(vectorizer.get_feature_names())\n",
    "print(f\"Complaints - Vocabulary_size: {vocabulary_size:,d} \\t Total words: {texts_wc:,d}\\n\")"
   ]
  },
  {
   "cell_type": "code",
   "execution_count": 9,
   "id": "72c35346",
   "metadata": {},
   "outputs": [
    {
     "name": "stdout",
     "output_type": "stream",
     "text": [
      "texts_vectorized_df.shape: (66806, 54080) \t Total words: 11,851,488\n"
     ]
    },
    {
     "data": {
      "text/html": [
       "<div>\n",
       "<style scoped>\n",
       "    .dataframe tbody tr th:only-of-type {\n",
       "        vertical-align: middle;\n",
       "    }\n",
       "\n",
       "    .dataframe tbody tr th {\n",
       "        vertical-align: top;\n",
       "    }\n",
       "\n",
       "    .dataframe thead th {\n",
       "        text-align: right;\n",
       "    }\n",
       "</style>\n",
       "<table border=\"1\" class=\"dataframe\">\n",
       "  <thead>\n",
       "    <tr style=\"text-align: right;\">\n",
       "      <th></th>\n",
       "      <th>00</th>\n",
       "      <th>000</th>\n",
       "      <th>0000</th>\n",
       "      <th>00000</th>\n",
       "      <th>0001</th>\n",
       "      <th>000a</th>\n",
       "      <th>000dollars</th>\n",
       "      <th>000if</th>\n",
       "      <th>000ii</th>\n",
       "      <th>000ins</th>\n",
       "      <th>...</th>\n",
       "      <th>zombie</th>\n",
       "      <th>zone</th>\n",
       "      <th>zoned</th>\n",
       "      <th>zones</th>\n",
       "      <th>zoning</th>\n",
       "      <th>zoo</th>\n",
       "      <th>zoom</th>\n",
       "      <th>zooms</th>\n",
       "      <th>ztuff</th>\n",
       "      <th>zwicker</th>\n",
       "    </tr>\n",
       "  </thead>\n",
       "  <tbody>\n",
       "    <tr>\n",
       "      <th>0</th>\n",
       "      <td>2</td>\n",
       "      <td>0</td>\n",
       "      <td>0</td>\n",
       "      <td>0</td>\n",
       "      <td>0</td>\n",
       "      <td>0</td>\n",
       "      <td>0</td>\n",
       "      <td>0</td>\n",
       "      <td>0</td>\n",
       "      <td>0</td>\n",
       "      <td>...</td>\n",
       "      <td>0</td>\n",
       "      <td>0</td>\n",
       "      <td>0</td>\n",
       "      <td>0</td>\n",
       "      <td>0</td>\n",
       "      <td>0</td>\n",
       "      <td>0</td>\n",
       "      <td>0</td>\n",
       "      <td>0</td>\n",
       "      <td>0</td>\n",
       "    </tr>\n",
       "    <tr>\n",
       "      <th>1</th>\n",
       "      <td>4</td>\n",
       "      <td>0</td>\n",
       "      <td>0</td>\n",
       "      <td>0</td>\n",
       "      <td>0</td>\n",
       "      <td>0</td>\n",
       "      <td>0</td>\n",
       "      <td>0</td>\n",
       "      <td>0</td>\n",
       "      <td>0</td>\n",
       "      <td>...</td>\n",
       "      <td>0</td>\n",
       "      <td>0</td>\n",
       "      <td>0</td>\n",
       "      <td>0</td>\n",
       "      <td>0</td>\n",
       "      <td>0</td>\n",
       "      <td>0</td>\n",
       "      <td>0</td>\n",
       "      <td>0</td>\n",
       "      <td>0</td>\n",
       "    </tr>\n",
       "    <tr>\n",
       "      <th>2</th>\n",
       "      <td>3</td>\n",
       "      <td>0</td>\n",
       "      <td>0</td>\n",
       "      <td>0</td>\n",
       "      <td>0</td>\n",
       "      <td>0</td>\n",
       "      <td>0</td>\n",
       "      <td>0</td>\n",
       "      <td>0</td>\n",
       "      <td>0</td>\n",
       "      <td>...</td>\n",
       "      <td>0</td>\n",
       "      <td>0</td>\n",
       "      <td>0</td>\n",
       "      <td>0</td>\n",
       "      <td>0</td>\n",
       "      <td>0</td>\n",
       "      <td>0</td>\n",
       "      <td>0</td>\n",
       "      <td>0</td>\n",
       "      <td>0</td>\n",
       "    </tr>\n",
       "  </tbody>\n",
       "</table>\n",
       "<p>3 rows × 54080 columns</p>\n",
       "</div>"
      ],
      "text/plain": [
       "   00  000  0000  00000  0001  000a  000dollars  000if  000ii  000ins  ...  \\\n",
       "0   2    0     0      0     0     0           0      0      0       0  ...   \n",
       "1   4    0     0      0     0     0           0      0      0       0  ...   \n",
       "2   3    0     0      0     0     0           0      0      0       0  ...   \n",
       "\n",
       "   zombie  zone  zoned  zones  zoning  zoo  zoom  zooms  ztuff  zwicker  \n",
       "0       0     0      0      0       0    0     0      0      0        0  \n",
       "1       0     0      0      0       0    0     0      0      0        0  \n",
       "2       0     0      0      0       0    0     0      0      0        0  \n",
       "\n",
       "[3 rows x 54080 columns]"
      ]
     },
     "execution_count": 9,
     "metadata": {},
     "output_type": "execute_result"
    }
   ],
   "source": [
    "# Sample Docs x Feats: texts_vectorized_df \n",
    "print(f\"texts_vectorized_df.shape: {texts_vectorized_df.shape} \\t Total words: {texts_wc:,d}\")\n",
    "texts_vectorized_df.head(3) # .sum() # .sum()"
   ]
  },
  {
   "cell_type": "markdown",
   "id": "adf20b19",
   "metadata": {},
   "source": [
    "# <a id=\"dataset-split\">CFPB Dataset split</a>\n"
   ]
  },
  {
   "cell_type": "code",
   "execution_count": 10,
   "id": "777adb65",
   "metadata": {},
   "outputs": [
    {
     "name": "stdout",
     "output_type": "stream",
     "text": [
      "DATA - ccd_text: 66,806 \t ccd_label: 66,806\n",
      "SIZE x_train: 54,112 \t x_dev: 6,013 \t x_test: 6,681\n",
      "\n"
     ]
    }
   ],
   "source": [
    "# Dataset partition: train, dev, test\n",
    "from sklearn.model_selection import train_test_split, cross_val_score\n",
    "\n",
    "ccd_text = ccd_df['consumer_complaint_narrative']\n",
    "ccd_label = ccd_df['product']\n",
    "print(f\"DATA - ccd_text: {len(ccd_text):,d} \\t ccd_label: {len(ccd_label):,d}\")\n",
    "\n",
    "x_traindev, x_test, y_traindev, y_test = train_test_split(\n",
    "    ccd_text, ccd_label, \n",
    "    random_state=287, shuffle=True, stratify=ccd_label,   # None,\n",
    "    test_size=0.10\n",
    ")\n",
    "\n",
    "x_train, x_dev, y_train, y_dev = train_test_split(\n",
    "    x_traindev, y_traindev, random_state=287, stratify=y_traindev, test_size=0.10\n",
    ")\n",
    "\n",
    "print(f\"SIZE x_train: {len(x_train):,d} \\t x_dev: {len(x_dev):,d} \\t x_test: {len(x_test):,d}\\n\")"
   ]
  },
  {
   "cell_type": "markdown",
   "id": "044bbf9b",
   "metadata": {},
   "source": [
    "# <a id=\"model-mnb\">MNB Model: Multinomial Naive Bayes Classifier</a>\n",
    "\n",
    "* TfidfVectorizer: Train on x_train only\n",
    "* 20,000 features \n",
    "* ngram = (1, 3)\n",
    "\n",
    "[top](#toc) "
   ]
  },
  {
   "cell_type": "code",
   "execution_count": 11,
   "id": "1241981d",
   "metadata": {},
   "outputs": [
    {
     "name": "stdout",
     "output_type": "stream",
     "text": [
      "Vectorizer features: 20,000, ngram size: (1, 3)\n",
      "\n",
      "CPU times: user 43.8 s, sys: 1.49 s, total: 45.3 s\n",
      "Wall time: 45.4 s\n"
     ]
    }
   ],
   "source": [
    "%%time\n",
    "from sklearn.feature_extraction.text import TfidfVectorizer\n",
    "from sklearn.pipeline import make_pipeline\n",
    "from sklearn.naive_bayes import MultinomialNB\n",
    "\n",
    "# Model TfidfVectorizer\n",
    "tokenizer = '(?u)\\\\b\\\\w\\\\w+\\\\b'\n",
    "ngram = (1, 3)\n",
    "max_features = 20000\n",
    "vectorizer = sk.feature_extraction.text.TfidfVectorizer(\n",
    "    token_pattern=tokenizer, ngram_range=ngram, max_features=max_features\n",
    ")\n",
    "vectorizer.fit(x_train)\n",
    "print(f\"Vectorizer features: {len(vectorizer.get_feature_names()):,d}, ngram size: {ngram}\\n\")"
   ]
  },
  {
   "cell_type": "code",
   "execution_count": 12,
   "id": "60681dee",
   "metadata": {},
   "outputs": [
    {
     "data": {
      "text/plain": [
       "['Bank account or service',\n",
       " 'Consumer Loan',\n",
       " 'Credit card',\n",
       " 'Credit reporting',\n",
       " 'Debt collection',\n",
       " 'Money transfers',\n",
       " 'Mortgage',\n",
       " 'Other financial service',\n",
       " 'Payday loan',\n",
       " 'Prepaid card',\n",
       " 'Student loan']"
      ]
     },
     "execution_count": 12,
     "metadata": {},
     "output_type": "execute_result"
    }
   ],
   "source": [
    "# CCD Class label categories: WATCH order\n",
    "max_label_char_size = 42\n",
    "\n",
    "product_labels = [x[:max_label_char_size] for x in ccd_df.groupby([\"product\"]).count().index.to_list()]\n",
    "product_labels"
   ]
  },
  {
   "cell_type": "code",
   "execution_count": 13,
   "id": "1cf10f6d",
   "metadata": {},
   "outputs": [
    {
     "name": "stdout",
     "output_type": "stream",
     "text": [
      "CPU times: user 45.2 s, sys: 1.52 s, total: 46.7 s\n",
      "Wall time: 47 s\n"
     ]
    },
    {
     "data": {
      "text/html": [
       "<style>#sk-container-id-1 {color: black;background-color: white;}#sk-container-id-1 pre{padding: 0;}#sk-container-id-1 div.sk-toggleable {background-color: white;}#sk-container-id-1 label.sk-toggleable__label {cursor: pointer;display: block;width: 100%;margin-bottom: 0;padding: 0.3em;box-sizing: border-box;text-align: center;}#sk-container-id-1 label.sk-toggleable__label-arrow:before {content: \"▸\";float: left;margin-right: 0.25em;color: #696969;}#sk-container-id-1 label.sk-toggleable__label-arrow:hover:before {color: black;}#sk-container-id-1 div.sk-estimator:hover label.sk-toggleable__label-arrow:before {color: black;}#sk-container-id-1 div.sk-toggleable__content {max-height: 0;max-width: 0;overflow: hidden;text-align: left;background-color: #f0f8ff;}#sk-container-id-1 div.sk-toggleable__content pre {margin: 0.2em;color: black;border-radius: 0.25em;background-color: #f0f8ff;}#sk-container-id-1 input.sk-toggleable__control:checked~div.sk-toggleable__content {max-height: 200px;max-width: 100%;overflow: auto;}#sk-container-id-1 input.sk-toggleable__control:checked~label.sk-toggleable__label-arrow:before {content: \"▾\";}#sk-container-id-1 div.sk-estimator input.sk-toggleable__control:checked~label.sk-toggleable__label {background-color: #d4ebff;}#sk-container-id-1 div.sk-label input.sk-toggleable__control:checked~label.sk-toggleable__label {background-color: #d4ebff;}#sk-container-id-1 input.sk-hidden--visually {border: 0;clip: rect(1px 1px 1px 1px);clip: rect(1px, 1px, 1px, 1px);height: 1px;margin: -1px;overflow: hidden;padding: 0;position: absolute;width: 1px;}#sk-container-id-1 div.sk-estimator {font-family: monospace;background-color: #f0f8ff;border: 1px dotted black;border-radius: 0.25em;box-sizing: border-box;margin-bottom: 0.5em;}#sk-container-id-1 div.sk-estimator:hover {background-color: #d4ebff;}#sk-container-id-1 div.sk-parallel-item::after {content: \"\";width: 100%;border-bottom: 1px solid gray;flex-grow: 1;}#sk-container-id-1 div.sk-label:hover label.sk-toggleable__label {background-color: #d4ebff;}#sk-container-id-1 div.sk-serial::before {content: \"\";position: absolute;border-left: 1px solid gray;box-sizing: border-box;top: 0;bottom: 0;left: 50%;z-index: 0;}#sk-container-id-1 div.sk-serial {display: flex;flex-direction: column;align-items: center;background-color: white;padding-right: 0.2em;padding-left: 0.2em;position: relative;}#sk-container-id-1 div.sk-item {position: relative;z-index: 1;}#sk-container-id-1 div.sk-parallel {display: flex;align-items: stretch;justify-content: center;background-color: white;position: relative;}#sk-container-id-1 div.sk-item::before, #sk-container-id-1 div.sk-parallel-item::before {content: \"\";position: absolute;border-left: 1px solid gray;box-sizing: border-box;top: 0;bottom: 0;left: 50%;z-index: -1;}#sk-container-id-1 div.sk-parallel-item {display: flex;flex-direction: column;z-index: 1;position: relative;background-color: white;}#sk-container-id-1 div.sk-parallel-item:first-child::after {align-self: flex-end;width: 50%;}#sk-container-id-1 div.sk-parallel-item:last-child::after {align-self: flex-start;width: 50%;}#sk-container-id-1 div.sk-parallel-item:only-child::after {width: 0;}#sk-container-id-1 div.sk-dashed-wrapped {border: 1px dashed gray;margin: 0 0.4em 0.5em 0.4em;box-sizing: border-box;padding-bottom: 0.4em;background-color: white;}#sk-container-id-1 div.sk-label label {font-family: monospace;font-weight: bold;display: inline-block;line-height: 1.2em;}#sk-container-id-1 div.sk-label-container {text-align: center;}#sk-container-id-1 div.sk-container {/* jupyter's `normalize.less` sets `[hidden] { display: none; }` but bootstrap.min.css set `[hidden] { display: none !important; }` so we also need the `!important` here to be able to override the default hidden behavior on the sphinx rendered scikit-learn.org. See: https://github.com/scikit-learn/scikit-learn/issues/21755 */display: inline-block !important;position: relative;}#sk-container-id-1 div.sk-text-repr-fallback {display: none;}</style><div id=\"sk-container-id-1\" class=\"sk-top-container\"><div class=\"sk-text-repr-fallback\"><pre>Pipeline(steps=[(&#x27;tfidfvectorizer&#x27;,\n",
       "                 TfidfVectorizer(max_features=20000, ngram_range=(1, 3))),\n",
       "                (&#x27;multinomialnb&#x27;, MultinomialNB())])</pre><b>In a Jupyter environment, please rerun this cell to show the HTML representation or trust the notebook. <br />On GitHub, the HTML representation is unable to render, please try loading this page with nbviewer.org.</b></div><div class=\"sk-container\" hidden><div class=\"sk-item sk-dashed-wrapped\"><div class=\"sk-label-container\"><div class=\"sk-label sk-toggleable\"><input class=\"sk-toggleable__control sk-hidden--visually\" id=\"sk-estimator-id-1\" type=\"checkbox\" ><label for=\"sk-estimator-id-1\" class=\"sk-toggleable__label sk-toggleable__label-arrow\">Pipeline</label><div class=\"sk-toggleable__content\"><pre>Pipeline(steps=[(&#x27;tfidfvectorizer&#x27;,\n",
       "                 TfidfVectorizer(max_features=20000, ngram_range=(1, 3))),\n",
       "                (&#x27;multinomialnb&#x27;, MultinomialNB())])</pre></div></div></div><div class=\"sk-serial\"><div class=\"sk-item\"><div class=\"sk-estimator sk-toggleable\"><input class=\"sk-toggleable__control sk-hidden--visually\" id=\"sk-estimator-id-2\" type=\"checkbox\" ><label for=\"sk-estimator-id-2\" class=\"sk-toggleable__label sk-toggleable__label-arrow\">TfidfVectorizer</label><div class=\"sk-toggleable__content\"><pre>TfidfVectorizer(max_features=20000, ngram_range=(1, 3))</pre></div></div></div><div class=\"sk-item\"><div class=\"sk-estimator sk-toggleable\"><input class=\"sk-toggleable__control sk-hidden--visually\" id=\"sk-estimator-id-3\" type=\"checkbox\" ><label for=\"sk-estimator-id-3\" class=\"sk-toggleable__label sk-toggleable__label-arrow\">MultinomialNB</label><div class=\"sk-toggleable__content\"><pre>MultinomialNB()</pre></div></div></div></div></div></div></div>"
      ],
      "text/plain": [
       "Pipeline(steps=[('tfidfvectorizer',\n",
       "                 TfidfVectorizer(max_features=20000, ngram_range=(1, 3))),\n",
       "                ('multinomialnb', MultinomialNB())])"
      ]
     },
     "execution_count": 13,
     "metadata": {},
     "output_type": "execute_result"
    }
   ],
   "source": [
    "%%time\n",
    "# Multinomial Naive Bayes Model: MNB\n",
    "model_name = \"Multinomial-Naive-Bayes\"\n",
    "model_mnb = sk.pipeline.make_pipeline(vectorizer, sk.naive_bayes.MultinomialNB())\n",
    "model_mnb.fit(x_train, y_train)"
   ]
  },
  {
   "cell_type": "code",
   "execution_count": 14,
   "id": "8cc7595b",
   "metadata": {},
   "outputs": [
    {
     "name": "stdout",
     "output_type": "stream",
     "text": [
      "Multinomial-Naive-Bayes: Accuracy\n",
      " DEV score: 78.55\n",
      "TEST score: 77.74\n",
      "\n",
      "CPU times: user 4.85 s, sys: 93 ms, total: 4.94 s\n",
      "Wall time: 4.97 s\n"
     ]
    }
   ],
   "source": [
    "%%time\n",
    "# MNB DEV/TEST/TRAIN score \n",
    "dev_score = model_mnb.score(x_dev, y_dev)\n",
    "test_score = model_mnb.score(x_test, y_test)\n",
    "# train_score = model_mnb.score(x_train, y_train)\n",
    "print(f\"{model_name}: Accuracy\")\n",
    "print(f\"  DEV score: {100*dev_score:.2f}\")\n",
    "print(f\" TEST score: {100*test_score:.2f}\")\n",
    "# print(f\"TRAIN score: {100*train_score:.2f}\\n\")"
   ]
  },
  {
   "cell_type": "code",
   "execution_count": 15,
   "id": "c4ec965b",
   "metadata": {},
   "outputs": [
    {
     "name": "stdout",
     "output_type": "stream",
     "text": [
      "Multinomial-Naive-Bayes: TEST Classification Report\n",
      "                         precision    recall  f1-score   support\n",
      "\n",
      "Bank account or service       0.74      0.79      0.76       571\n",
      "          Consumer Loan       0.89      0.36      0.51       368\n",
      "            Credit card       0.71      0.77      0.74       793\n",
      "       Credit reporting       0.75      0.85      0.79      1253\n",
      "        Debt collection       0.79      0.83      0.80      1755\n",
      "        Money transfers       0.00      0.00      0.00        66\n",
      "               Mortgage       0.82      0.94      0.88      1492\n",
      "Other financial service       0.00      0.00      0.00        11\n",
      "            Payday loan       0.00      0.00      0.00        73\n",
      "           Prepaid card       1.00      0.02      0.05        86\n",
      "           Student loan       0.93      0.45      0.61       213\n",
      "\n",
      "               accuracy                           0.78      6681\n",
      "              macro avg       0.60      0.45      0.47      6681\n",
      "           weighted avg       0.77      0.78      0.76      6681\n",
      "\n",
      "CPU times: user 2.67 s, sys: 39.4 ms, total: 2.71 s\n",
      "Wall time: 2.72 s\n"
     ]
    }
   ],
   "source": [
    "%%time\n",
    "# Classification Report\n",
    "y_test_predicted = model_mnb.predict(x_test)\n",
    "print(f\"{model_name}: TEST Classification Report\")\n",
    "print(sk.metrics.classification_report(y_test, y_test_predicted, target_names=product_labels))"
   ]
  },
  {
   "cell_type": "code",
   "execution_count": 16,
   "id": "7adf5d4c",
   "metadata": {},
   "outputs": [
    {
     "name": "stdout",
     "output_type": "stream",
     "text": [
      "Multinomial-Naive-Bayes: TEST Confusion Matrix\n"
     ]
    },
    {
     "data": {
      "image/png": "[encoded data removed]",
      "text/plain": [
       "<Figure size 648x432 with 2 Axes>"
      ]
     },
     "metadata": {
      "needs_background": "light"
     },
     "output_type": "display_data"
    }
   ],
   "source": [
    "print(f\"{model_name}: TEST Confusion Matrix\")\n",
    "product_mat = sk.metrics.confusion_matrix(y_test, y_test_predicted)\n",
    "\n",
    "fig, ax = plt.subplots(figsize=(9, 6))\n",
    "sns.heatmap(product_mat, annot=True, fmt=\"d\", cbar=True, cmap=\"BuPu\", xticklabels=product_labels, yticklabels=product_labels)\n",
    "plt.ylabel('CFPB Label')\n",
    "plt.xlabel('Model Prediction')\n",
    "plt.title('MNB - Test Confusion Matrix')\n",
    "plt.show()"
   ]
  },
  {
   "cell_type": "markdown",
   "id": "02a09c9f",
   "metadata": {},
   "source": [
    "# <a id=\"model-mlp\">MLP Model: Multilayer Perceptron Classifier</a>\n",
    "\n",
    "* Binary Keras Tokenizer\n",
    "* MLP model: input, hidden and output layers\n",
    "\n",
    "Note: MLP uses a binary tokenizer. MNB model used a TF-IDF vectorizer with 20,000 features, ngram=(0,3)\n",
    "\n",
    "[top](#toc) "
   ]
  },
  {
   "cell_type": "code",
   "execution_count": 17,
   "id": "394e6c3e",
   "metadata": {},
   "outputs": [
    {
     "name": "stdout",
     "output_type": "stream",
     "text": [
      "TOK inputs - x_train: 54,112, x_dev: 6,013, x_test: 6,681\n",
      "TOK - max_features: 20,000, word_index (vocabulary): 49,264\n",
      "X_train: 54,112, X_dev: 6,013, X_test: 6,681\n",
      "\n",
      "CPU times: user 10.1 s, sys: 76.1 ms, total: 10.2 s\n",
      "Wall time: 10.2 s\n"
     ]
    }
   ],
   "source": [
    "%%time\n",
    "# Keras Tokenizer\n",
    "\n",
    "# train/dev/test data to use\n",
    "train_size = x_train.shape[0]\n",
    "dev_size = x_dev.shape[0]   # 2000\n",
    "test_size = x_test.shape[0] # 2000\n",
    "\n",
    "max_features = 20000\n",
    "print(f\"TOK inputs - x_train: {len(x_train):,d}, x_dev: {len(x_dev):,d}, x_test: {len(x_test):,d}\")\n",
    "\n",
    "tokenizer = tf.keras.preprocessing.text.Tokenizer(num_words=max_features, oov_token='UNK')\n",
    "tokenizer.fit_on_texts(x_train)  # Fit only on x_train\n",
    "print(f\"TOK - max_features: {tokenizer.num_words:,d}, word_index (vocabulary): {len(tokenizer.word_index):,d}\")\n",
    "\n",
    "X_train = tokenizer.texts_to_sequences(x_train[:train_size])\n",
    "X_dev = tokenizer.texts_to_sequences(x_dev[:dev_size])\n",
    "X_test = tokenizer.texts_to_sequences(x_test[:test_size])\n",
    "print(f\"X_train: {len(X_train):,d}, X_dev: {len(X_dev):,d}, X_test: {len(X_test):,d}\\n\")\n",
    "# X_train[:2], X_dev[:2]"
   ]
  },
  {
   "cell_type": "code",
   "execution_count": 18,
   "id": "0b7e1fb0",
   "metadata": {},
   "outputs": [
    {
     "name": "stdout",
     "output_type": "stream",
     "text": [
      "KERAS CFPB Complaints vectorize_sequences: 0:00:02.301487\n",
      "\n",
      "CPU times: user 1.51 s, sys: 713 ms, total: 2.23 s\n",
      "Wall time: 2.3 s\n"
     ]
    }
   ],
   "source": [
    "%%time\n",
    "# Vectorize text into binary features\n",
    "def vectorize_sequences(sequences, dimension=10000):\n",
    "    results = np.zeros((len(sequences), dimension))\n",
    "    for i, sequence in enumerate(sequences):\n",
    "        results[i, sequence] = 1.\n",
    "    return results\n",
    "\n",
    "t0 = datetime.now()\n",
    "x_train_b = vectorize_sequences(X_train[:train_size], max_features)\n",
    "x_dev_b = vectorize_sequences(X_dev[:dev_size], max_features)\n",
    "x_test_b = vectorize_sequences(X_test[:test_size], max_features)\n",
    "t1 = datetime.now()\n",
    "print(f\"KERAS CFPB Complaints vectorize_sequences: {t1-t0}\\n\")"
   ]
  },
  {
   "cell_type": "code",
   "execution_count": 19,
   "id": "9e95a324",
   "metadata": {},
   "outputs": [
    {
     "name": "stdout",
     "output_type": "stream",
     "text": [
      "Encoder Classes (11): ['Bank account or service' 'Consumer Loan' 'Credit card'\n",
      " 'Credit reporting' 'Debt collection' 'Money transfers' 'Mortgage'\n",
      " 'Other financial service' 'Payday loan' 'Prepaid card' 'Student loan']\n",
      "\n",
      "Encoder Classes/Counts train: (array([ 0,  1,  2,  3,  4,  5,  6,  7,  8,  9, 10]), array([ 4626,  2979,  6422, 10146, 14217,   540, 12084,    89,   588,\n",
      "         698,  1723]))\n",
      "Encoder Classes/Counts dev: (array([ 0,  1,  2,  3,  4,  5,  6,  7,  8,  9, 10]), array([ 514,  331,  714, 1127, 1580,   60, 1343,   10,   65,   77,  192]))\n",
      "Encoder Classes/Counts test: (array([ 0,  1,  2,  3,  4,  5,  6,  7,  8,  9, 10]), array([ 571,  368,  793, 1253, 1755,   66, 1492,   11,   73,   86,  213]))\n"
     ]
    }
   ],
   "source": [
    "# vectorize labels\n",
    "labencoder = sk.preprocessing.LabelEncoder()\n",
    "y_train_int = labencoder.fit_transform(y_train[:train_size])\n",
    "y_dev_int = labencoder.fit_transform(y_dev[:dev_size])\n",
    "y_test_int = labencoder.transform(y_test[:test_size])\n",
    "\n",
    "y_train_1h = tf.keras.utils.to_categorical(np.asarray(y_train_int))\n",
    "y_dev_1h = tf.keras.utils.to_categorical(np.asarray(y_dev_int))\n",
    "y_test_1h = tf.keras.utils.to_categorical(np.asarray(y_test_int))\n",
    "\n",
    "print(f\"Encoder Classes ({len(labencoder.classes_)}): {labencoder.classes_}\\n\")\n",
    "print(\"Encoder Classes/Counts train:\", np.unique(y_train_int, return_counts=True))\n",
    "print(\"Encoder Classes/Counts dev:\", np.unique(y_dev_int, return_counts=True))\n",
    "print(\"Encoder Classes/Counts test:\", np.unique(y_test_int, return_counts=True))"
   ]
  },
  {
   "cell_type": "code",
   "execution_count": 20,
   "id": "26bd6e7a",
   "metadata": {},
   "outputs": [
    {
     "name": "stderr",
     "output_type": "stream",
     "text": [
      "2022-12-16 02:35:17.051735: I tensorflow/core/platform/cpu_feature_guard.cc:193] This TensorFlow binary is optimized with oneAPI Deep Neural Network Library (oneDNN) to use the following CPU instructions in performance-critical operations:  AVX2 FMA\n",
      "To enable them in other operations, rebuild TensorFlow with the appropriate compiler flags.\n"
     ]
    },
    {
     "name": "stdout",
     "output_type": "stream",
     "text": [
      "max_features: 20000\n",
      "Model: \"sequential\"\n",
      "_________________________________________________________________\n",
      " Layer (type)                Output Shape              Param #   \n",
      "=================================================================\n",
      " dense (Dense)               (None, 128)               2560128   \n",
      "                                                                 \n",
      " dropout (Dropout)           (None, 128)               0         \n",
      "                                                                 \n",
      " dense_1 (Dense)             (None, 128)               16512     \n",
      "                                                                 \n",
      " dropout_1 (Dropout)         (None, 128)               0         \n",
      "                                                                 \n",
      " dense_2 (Dense)             (None, 11)                1419      \n",
      "                                                                 \n",
      "=================================================================\n",
      "Total params: 2,578,059\n",
      "Trainable params: 2,578,059\n",
      "Non-trainable params: 0\n",
      "_________________________________________________________________\n"
     ]
    }
   ],
   "source": [
    "# MLP model\n",
    "dense_nodes = 128    # Network: max_features x 128d x 128dp x 128d x 11o. Explore 64, 128\n",
    "output_classes = 11   # Keras Reuters dataset classes\n",
    "dropout = 0.5        # Explore 0.0, 0.2, 0.5\n",
    "\n",
    "model_name = \"Bin-BOW-MLP-128\"\n",
    "model = tf.keras.models.Sequential()\n",
    "model.add(tf.keras.layers.Dense(dense_nodes, activation='relu', input_shape=(max_features,)))\n",
    "model.add(tf.keras.layers.Dropout(dropout))\n",
    "model.add(tf.keras.layers.Dense(dense_nodes, activation='relu'))\n",
    "model.add(tf.keras.layers.Dropout(dropout))\n",
    "model.add(tf.keras.layers.Dense(output_classes, activation='softmax'))\n",
    "\n",
    "# MLP model compile & describe\n",
    "print(\"max_features:\", max_features)\n",
    "model.compile(optimizer='rmsprop', loss='categorical_crossentropy', metrics=['accuracy'])\n",
    "model.summary()"
   ]
  },
  {
   "cell_type": "code",
   "execution_count": 21,
   "id": "a3cbfaae",
   "metadata": {},
   "outputs": [
    {
     "name": "stdout",
     "output_type": "stream",
     "text": [
      "Start CFPB MLP training: 2022-12-16 02:35:35.390936\n",
      "Epoch 1/10\n",
      "423/423 [==============================] - 14s 32ms/step - loss: 0.8760 - accuracy: 0.7416 - val_loss: 0.5826 - val_accuracy: 0.8305\n",
      "Epoch 2/10\n",
      "423/423 [==============================] - 9s 21ms/step - loss: 0.5651 - accuracy: 0.8384 - val_loss: 0.5305 - val_accuracy: 0.8528\n",
      "Epoch 3/10\n",
      "423/423 [==============================] - 9s 21ms/step - loss: 0.4858 - accuracy: 0.8605 - val_loss: 0.5324 - val_accuracy: 0.8580\n",
      "Epoch 4/10\n",
      "423/423 [==============================] - 9s 22ms/step - loss: 0.4423 - accuracy: 0.8751 - val_loss: 0.5300 - val_accuracy: 0.8576\n",
      "Epoch 5/10\n",
      "423/423 [==============================] - 9s 22ms/step - loss: 0.4065 - accuracy: 0.8839 - val_loss: 0.5416 - val_accuracy: 0.8588\n",
      "Epoch 6/10\n",
      "423/423 [==============================] - 9s 22ms/step - loss: 0.3755 - accuracy: 0.8934 - val_loss: 0.5559 - val_accuracy: 0.8563\n",
      "Epoch 7/10\n",
      "423/423 [==============================] - 10s 23ms/step - loss: 0.3525 - accuracy: 0.8987 - val_loss: 0.5749 - val_accuracy: 0.8576\n",
      "Epoch 8/10\n",
      "423/423 [==============================] - 10s 23ms/step - loss: 0.3318 - accuracy: 0.9046 - val_loss: 0.5890 - val_accuracy: 0.8551\n",
      "Epoch 9/10\n",
      "423/423 [==============================] - 10s 24ms/step - loss: 0.3118 - accuracy: 0.9121 - val_loss: 0.6446 - val_accuracy: 0.8560\n",
      "Epoch 10/10\n",
      "423/423 [==============================] - 10s 23ms/step - loss: 0.3049 - accuracy: 0.9154 - val_loss: 0.6504 - val_accuracy: 0.8583\n",
      "End train MLP: 2022-12-16 02:37:23.018236\n",
      "Time: 0:01:47.627300\n",
      "\n",
      "CPU times: user 6min 51s, sys: 54.1 s, total: 7min 45s\n",
      "Wall time: 1min 47s\n"
     ]
    }
   ],
   "source": [
    "%%time\n",
    "# Train model\n",
    "batch_size = 128 # 32, 64, 128, 512\n",
    "epochs = 10\n",
    "\n",
    "# Time\n",
    "start_time = datetime.now()\n",
    "print(\"Start CFPB MLP training:\", str(start_time))\n",
    "\n",
    "history = model.fit(x_train_b, y_train_1h,\n",
    "                    epochs=epochs, batch_size=batch_size, \n",
    "                    validation_data=(x_dev_b, y_dev_1h))\n",
    "\n",
    "# Time\n",
    "end_time = datetime.now()\n",
    "model_mlp = model\n",
    "print(f\"End train MLP: {str(end_time)}\")\n",
    "print(f\"Time: {str(end_time-start_time)}\\n\")"
   ]
  },
  {
   "cell_type": "code",
   "execution_count": 22,
   "id": "04fdbb49",
   "metadata": {},
   "outputs": [
    {
     "name": "stdout",
     "output_type": "stream",
     "text": [
      "188/188 [==============================] - 1s 3ms/step - loss: 0.6504 - accuracy: 0.8583\n",
      "209/209 [==============================] - 1s 3ms/step - loss: 0.6826 - accuracy: 0.8526\n",
      "1691/1691 [==============================] - 7s 4ms/step - loss: 0.1634 - accuracy: 0.9523\n",
      "\n",
      "BoW_MLP-128: Accuracy\n",
      "  DEV loss: 0.65\t accuracy: 85.83\n",
      " TEST loss: 0.68\t accuracy: 85.26\n",
      "TRAIN loss: 0.16\t accuracy: 95.23\n",
      "\n",
      "CPU times: user 26.6 s, sys: 9.75 s, total: 36.4 s\n",
      "Wall time: 18.1 s\n"
     ]
    }
   ],
   "source": [
    "%%time\n",
    "# Evaluate: DEV/TEST/TRAIN accuracy\n",
    "dev_loss, dev_acc = model.evaluate(x_dev_b, y_dev_1h)\n",
    "test_loss, test_acc = model.evaluate(x_test_b, y_test_1h)\n",
    "train_loss, train_acc = model.evaluate(x_train_b, y_train_1h)\n",
    "\n",
    "print(f\"\\n{model_name}: Accuracy\")\n",
    "print(f\"  DEV loss: {dev_loss:.2f}\\t accuracy: {100*dev_acc:.2f}\")\n",
    "print(f\" TEST loss: {test_loss:.2f}\\t accuracy: {100*test_acc:.2f}\")\n",
    "print(f\"TRAIN loss: {train_loss:.2f}\\t accuracy: {100*train_acc:.2f}\\n\")"
   ]
  },
  {
   "cell_type": "code",
   "execution_count": 23,
   "id": "bd20c7bf",
   "metadata": {},
   "outputs": [
    {
     "data": {
      "image/png": "[encoded data removed]",
      "text/plain": [
       "<Figure size 1008x288 with 2 Axes>"
      ]
     },
     "metadata": {
      "needs_background": "light"
     },
     "output_type": "display_data"
    }
   ],
   "source": [
    "# Plot: MLP Embedding-20000 x 128 x 128dp x 128 x 11\n",
    "acc = history.history['accuracy']\n",
    "val_acc = history.history['val_accuracy']\n",
    "loss = history.history['loss']\n",
    "val_loss = history.history['val_loss']\n",
    "\n",
    "epochs = range(len(acc))\n",
    "\n",
    "plt.figure(figsize=(14,4))\n",
    "plt.subplot(121)\n",
    "plt.plot(epochs, acc, 'bo', label='Training accuracy')\n",
    "plt.plot(epochs, val_acc, 'b', label='Validation accuracy')\n",
    "plt.title(f'\\n{model_name}: Training, Validation Accuracy', fontsize=14)\n",
    "plt.xlabel('Epoch', fontsize=16)\n",
    "plt.ylabel('Accuracy', fontsize=16)\n",
    "plt.legend()\n",
    "\n",
    "plt.subplot(122)\n",
    "plt.plot(epochs, loss, 'bo', label='Training loss')\n",
    "plt.plot(epochs, val_loss, 'b', label='Validation loss')\n",
    "plt.title(f'\\n{model_name}: Training, Validation Loss', fontsize=14)\n",
    "plt.xlabel('Epoch', fontsize=16)\n",
    "plt.ylabel('Loss', fontsize=16)\n",
    "plt.legend()\n",
    "\n",
    "plt.show()"
   ]
  },
  {
   "cell_type": "code",
   "execution_count": 24,
   "id": "e7ba9288",
   "metadata": {},
   "outputs": [
    {
     "name": "stdout",
     "output_type": "stream",
     "text": [
      "209/209 [==============================] - 1s 2ms/step\n",
      "\n",
      "BoW_MLP-128: TEST Classification Report\n",
      "                         precision    recall  f1-score   support\n",
      "\n",
      "Bank account or service       0.82      0.78      0.80       571\n",
      "          Consumer Loan       0.72      0.64      0.68       368\n",
      "            Credit card       0.82      0.78      0.80       793\n",
      "       Credit reporting       0.87      0.88      0.87      1253\n",
      "        Debt collection       0.82      0.90      0.86      1755\n",
      "        Money transfers       0.76      0.52      0.61        66\n",
      "               Mortgage       0.94      0.95      0.94      1492\n",
      "Other financial service       0.00      0.00      0.00        11\n",
      "            Payday loan       0.67      0.44      0.53        73\n",
      "           Prepaid card       0.81      0.72      0.76        86\n",
      "           Student loan       0.92      0.79      0.85       213\n",
      "\n",
      "               accuracy                           0.85      6681\n",
      "              macro avg       0.74      0.67      0.70      6681\n",
      "           weighted avg       0.85      0.85      0.85      6681\n",
      "\n",
      "CPU times: user 2.21 s, sys: 607 ms, total: 2.82 s\n",
      "Wall time: 1.5 s\n"
     ]
    }
   ],
   "source": [
    "%%time\n",
    "# Classification report on TEST data\n",
    "y_test_predicted = model.predict(x_test_b).argmax(axis=1)\n",
    "print(f\"\\n{model_name}: TEST Classification Report\")\n",
    "print(sk.metrics.classification_report(y_test_int, y_test_predicted, target_names=product_labels))"
   ]
  },
  {
   "cell_type": "code",
   "execution_count": 25,
   "id": "39b280f0",
   "metadata": {},
   "outputs": [
    {
     "name": "stdout",
     "output_type": "stream",
     "text": [
      "BoW_MLP-128: TEST Confusion Matrix\n"
     ]
    },
    {
     "data": {
      "image/png": "[encoded data removed]",
      "text/plain": [
       "<Figure size 648x432 with 2 Axes>"
      ]
     },
     "metadata": {
      "needs_background": "light"
     },
     "output_type": "display_data"
    }
   ],
   "source": [
    "# Confusion matrix on TEST data\n",
    "print(f\"{model_name}: TEST Confusion Matrix\")\n",
    "product_mat = sk.metrics.confusion_matrix(y_test_int, y_test_predicted)\n",
    "\n",
    "fig, ax = plt.subplots(figsize=(9, 6))\n",
    "sns.heatmap(product_mat, annot=True, fmt=\"d\", cbar=True, cmap=\"BuPu\", xticklabels=product_labels, yticklabels=product_labels)\n",
    "plt.ylabel('CFPB Label')\n",
    "plt.xlabel('Model Prediction')\n",
    "plt.title(f\"{model_name}: TEST Confusion Matrix\")\n",
    "plt.show()"
   ]
  },
  {
   "cell_type": "markdown",
   "id": "8466e3d6",
   "metadata": {},
   "source": [
    "# <a id=\"model-lstm\">LSTM Model: Long Short Term Memory Model</a>\n",
    "\n",
    "* input embedding layer 100, etc.\n",
    "\n",
    "[top](#toc) "
   ]
  },
  {
   "cell_type": "code",
   "execution_count": 26,
   "id": "ececb9a6",
   "metadata": {},
   "outputs": [
    {
     "name": "stdout",
     "output_type": "stream",
     "text": [
      "Data splits - X_train: 54,112, X_dev: 6,013, X_test: 6,681\n",
      "Class labels (11): ['Bank account or service', 'Consumer Loan', 'Credit card', 'Credit reporting', 'Debt collection', 'Money transfers', 'Mortgage', 'Other financial service', 'Payday loan', 'Prepaid card', 'Student loan']\n"
     ]
    }
   ],
   "source": [
    "# CFPB labels and input data splits\n",
    "print(f\"Data splits - X_train: {len(X_train):,d}, X_dev: {len(X_dev):,d}, X_test: {len(X_test):,d}\")\n",
    "print(f\"Class labels ({len(product_labels)}): {product_labels}\")"
   ]
  },
  {
   "cell_type": "code",
   "execution_count": 27,
   "id": "609ab0a0",
   "metadata": {},
   "outputs": [
    {
     "name": "stdout",
     "output_type": "stream",
     "text": [
      "Sample text x_train_len[0] (length = 200):\n",
      " [    0     0     0     0     0     0     0     0     0     0     0     0\n",
      "     0     0     0     0     0     0     0     0     0     0     0     0\n",
      "     0     0     0     0     0     0     0     0     0     0     0     0\n",
      "     0     0     0     0     0     0     0     0     0     0     0     0\n",
      "     0     0     0     0     0     0     0     0     0     0     0     0\n",
      "     0     0     0     0     0     0     0     0     0     0     0     0\n",
      "     0     0     0     0     0     0     0     0     0     0     0     0\n",
      "     0     0     0     0     0     0     0     0     0     0     0     0\n",
      "     0     0     0     0     0     0     0     0     0     0     0     0\n",
      "     0     0     0     0     0     0     0     0     0     0     0     0\n",
      "     0     0     0     0     0     0     0     0     0     0     0     0\n",
      "     0     0     0     0     0     0     0     0     0     4    75   301\n",
      "   409  3379    65   363    42  1930    10   333   820     5    18    66\n",
      "    10  1283   423   677   154     8    23  1743   270    45  3249   277\n",
      "     8   140 11868    59     6  6041  1205     3    66    47    16    15\n",
      "     7  3847  1248     5  1279   154     8    23   127   677    55   262\n",
      "   186     8   682   820   939     6    42   793]\n",
      "\n",
      "CPU times: user 674 ms, sys: 403 ms, total: 1.08 s\n",
      "Wall time: 1.47 s\n"
     ]
    }
   ],
   "source": [
    "%%time\n",
    "# Limit and pad input sequences to maxlen words\n",
    "maxlen = 200 # Input length\n",
    "\n",
    "# Fixed-length features, maxlen\n",
    "x_train_fl = tf.keras.preprocessing.sequence.pad_sequences(X_train, maxlen=maxlen, truncating='post', padding='pre')\n",
    "x_dev_fl = tf.keras.preprocessing.sequence.pad_sequences(X_dev, maxlen=maxlen, truncating='post', padding='pre')\n",
    "x_test_fl = tf.keras.preprocessing.sequence.pad_sequences(X_test, maxlen=maxlen, truncating='post', padding='pre')\n",
    "\n",
    "# Sample text input\n",
    "print(f\"Sample text x_train_len[0] (length = {len(x_train_fl[0])}):\\n {x_train_fl[0]}\\n\")"
   ]
  },
  {
   "cell_type": "code",
   "execution_count": 28,
   "id": "f1c80a6a",
   "metadata": {},
   "outputs": [
    {
     "name": "stdout",
     "output_type": "stream",
     "text": [
      "Model: E100_Bi-LSTM-64, max_features: 20000, embed_dim: 100, output_classes: 11\n",
      "lstm_size: 64, dropout: 0.2, input_dropout: 0.2, recurrent_dropout: 0.3\n",
      "\n",
      "Model: \"sequential_1\"\n",
      "_________________________________________________________________\n",
      " Layer (type)                Output Shape              Param #   \n",
      "=================================================================\n",
      " embedding (Embedding)       (None, None, 100)         2000000   \n",
      "                                                                 \n",
      " bidirectional (Bidirectiona  (None, 128)              84480     \n",
      " l)                                                              \n",
      "                                                                 \n",
      " dense_3 (Dense)             (None, 128)               16512     \n",
      "                                                                 \n",
      " dropout_2 (Dropout)         (None, 128)               0         \n",
      "                                                                 \n",
      " dense_4 (Dense)             (None, 11)                1419      \n",
      "                                                                 \n",
      "=================================================================\n",
      "Total params: 2,102,411\n",
      "Trainable params: 2,102,411\n",
      "Non-trainable params: 0\n",
      "_________________________________________________________________\n"
     ]
    }
   ],
   "source": [
    "# LSTM Model with trainable input embedding layer\n",
    "embed_dim = 100  # Explore 32, 50, 100\n",
    "lstm_size = 64   # Explore 32, 64, 128\n",
    "dense_nodes = 128\n",
    "\n",
    "dropout = 0.2    # Dropouts\n",
    "input_dropout = 0.2; \n",
    "recurrent_dropout = 0.3\n",
    "\n",
    "num_classes = len(product_labels)  # 11 CCD product classes\n",
    "\n",
    "# Bi-directional LSTM of lstm_size=64 (128 LSTM nodes total)\n",
    "model_name = \"E100_Bi-LSTM-64\"\n",
    "model = tf.keras.models.Sequential([\n",
    "    tf.keras.layers.Embedding(max_features, embed_dim),\n",
    "    tf.keras.layers.Bidirectional(\n",
    "        tf.keras.layers.LSTM(lstm_size, dropout=input_dropout, recurrent_dropout=recurrent_dropout)\n",
    "    ),\n",
    "    tf.keras.layers.Dense(dense_nodes, activation='relu'),\n",
    "    tf.keras.layers.Dropout(dropout),\n",
    "    tf.keras.layers.Dense(num_classes, activation='softmax')\n",
    "])\n",
    "model.compile(optimizer='rmsprop', loss='categorical_crossentropy', metrics=['accuracy'])\n",
    "\n",
    "# Summary\n",
    "print(f\"Model: {model_name}, max_features: {max_features}, embed_dim: {embed_dim}, output_classes: {num_classes}\")\n",
    "print(f\"lstm_size: {lstm_size}, dropout: {dropout}, input_dropout: {input_dropout}, recurrent_dropout: {recurrent_dropout}\\n\")\n",
    "model.summary()"
   ]
  },
  {
   "cell_type": "code",
   "execution_count": 29,
   "id": "9baae4c5",
   "metadata": {},
   "outputs": [
    {
     "name": "stdout",
     "output_type": "stream",
     "text": [
      "Start train LSTM: 2022-12-16 02:40:40.476394\n",
      "model_name: E100_Bi-LSTM-64, epochs: 12, batch_size: 64, lstm_size: 64\n",
      "Epoch 1/12\n",
      "846/846 [==============================] - 273s 312ms/step - loss: 1.2588 - accuracy: 0.5805 - val_loss: 0.9036 - val_accuracy: 0.7529\n",
      "Epoch 2/12\n",
      "846/846 [==============================] - 285s 336ms/step - loss: 0.8293 - accuracy: 0.7605 - val_loss: 0.8060 - val_accuracy: 0.7577\n",
      "Epoch 3/12\n",
      "846/846 [==============================] - 274s 324ms/step - loss: 0.7164 - accuracy: 0.7933 - val_loss: 0.7428 - val_accuracy: 0.7861\n",
      "Epoch 4/12\n",
      "846/846 [==============================] - 254s 301ms/step - loss: 0.6276 - accuracy: 0.8199 - val_loss: 0.6820 - val_accuracy: 0.8099\n",
      "Epoch 5/12\n",
      "846/846 [==============================] - 253s 299ms/step - loss: 0.5708 - accuracy: 0.8360 - val_loss: 0.6130 - val_accuracy: 0.8260\n",
      "Epoch 6/12\n",
      "846/846 [==============================] - 253s 299ms/step - loss: 0.5197 - accuracy: 0.8496 - val_loss: 0.5850 - val_accuracy: 0.8320\n",
      "Epoch 7/12\n",
      "846/846 [==============================] - 251s 297ms/step - loss: 0.4846 - accuracy: 0.8621 - val_loss: 0.6175 - val_accuracy: 0.8280\n",
      "Epoch 8/12\n",
      "846/846 [==============================] - 251s 297ms/step - loss: 0.4537 - accuracy: 0.8692 - val_loss: 0.6115 - val_accuracy: 0.8360\n",
      "Epoch 9/12\n",
      "846/846 [==============================] - 251s 297ms/step - loss: 0.4258 - accuracy: 0.8767 - val_loss: 0.5838 - val_accuracy: 0.8447\n",
      "Epoch 10/12\n",
      "846/846 [==============================] - 252s 298ms/step - loss: 0.3939 - accuracy: 0.8849 - val_loss: 0.5470 - val_accuracy: 0.8463\n",
      "Epoch 11/12\n",
      "846/846 [==============================] - 252s 298ms/step - loss: 0.3753 - accuracy: 0.8911 - val_loss: 0.5917 - val_accuracy: 0.8350\n",
      "Epoch 12/12\n",
      "846/846 [==============================] - 253s 299ms/step - loss: 0.3515 - accuracy: 0.8975 - val_loss: 0.5548 - val_accuracy: 0.8512\n",
      "End train LSTM: 2022-12-16 03:32:22.562713\n",
      "Time: 0:51:42.086319\n",
      "\n",
      "CPU times: user 4h 46min 5s, sys: 1h 2min 45s, total: 5h 48min 51s\n",
      "Wall time: 51min 42s\n"
     ]
    }
   ],
   "source": [
    "%%time\n",
    "# Train model\n",
    "epochs = 12\n",
    "batch_size = 64   # 32, 64, 128, 512\n",
    "val_split = 0.1\n",
    "\n",
    "# Time\n",
    "start_time = datetime.now()\n",
    "print(f\"Start train LSTM: {str(start_time)}\")\n",
    "print(f\"model_name: {model_name}, epochs: {epochs}, batch_size: {batch_size}, lstm_size: {lstm_size}\")\n",
    "\n",
    "history = model.fit(x_train_fl, y_train_1h,\n",
    "                    epochs=epochs, batch_size=batch_size, \n",
    "                    # validation_split=val_split, \n",
    "                    validation_data=(x_dev_fl, y_dev_1h))\n",
    "\n",
    "# Time\n",
    "end_time = datetime.now()\n",
    "model_lstm = model\n",
    "print(f\"End train LSTM: {str(end_time)}\")\n",
    "print(f\"Time: {str(end_time-start_time)}\\n\")"
   ]
  },
  {
   "cell_type": "code",
   "execution_count": 30,
   "id": "2750b0e6",
   "metadata": {},
   "outputs": [
    {
     "name": "stdout",
     "output_type": "stream",
     "text": [
      "188/188 [==============================] - 5s 25ms/step - loss: 0.5548 - accuracy: 0.8512\n",
      "209/209 [==============================] - 6s 31ms/step - loss: 0.5730 - accuracy: 0.8494\n",
      "1691/1691 [==============================] - 54s 32ms/step - loss: 0.2903 - accuracy: 0.9124\n",
      "\n",
      "E100_Bi-LSTM-64: Accuracy\n",
      "  DEV loss: 0.55\t accuracy: 85.12\n",
      " TEST loss: 0.57\t accuracy: 84.94\n",
      "TRAIN loss: 0.29\t accuracy: 91.24\n",
      "\n",
      "CPU times: user 6min 23s, sys: 36.5 s, total: 7min\n",
      "Wall time: 1min 4s\n"
     ]
    }
   ],
   "source": [
    "%%time\n",
    "# Evaluate: DEV/TEST/TRAIN accuracy\n",
    "dev_loss, dev_acc = model.evaluate(x_dev_fl, y_dev_1h)\n",
    "test_loss, test_acc = model.evaluate(x_test_fl, y_test_1h)\n",
    "train_loss, train_acc = model.evaluate(x_train_fl, y_train_1h)\n",
    "\n",
    "print(f\"\\n{model_name}: Accuracy\")\n",
    "print(f\"  DEV loss: {dev_loss:.2f}\\t accuracy: {100*dev_acc:.2f}\")\n",
    "print(f\" TEST loss: {test_loss:.2f}\\t accuracy: {100*test_acc:.2f}\")\n",
    "print(f\"TRAIN loss: {train_loss:.2f}\\t accuracy: {100*train_acc:.2f}\\n\")"
   ]
  },
  {
   "cell_type": "code",
   "execution_count": 31,
   "id": "a03f3578",
   "metadata": {},
   "outputs": [
    {
     "data": {
      "image/png": "[encoded data removed]",
      "text/plain": [
       "<Figure size 1008x288 with 2 Axes>"
      ]
     },
     "metadata": {
      "needs_background": "light"
     },
     "output_type": "display_data"
    }
   ],
   "source": [
    "# E100_Bi-LSTM-64\n",
    "model_name = \"E100_LSTM-64\"\n",
    "acc = history.history['accuracy']\n",
    "val_acc = history.history['val_accuracy']\n",
    "loss = history.history['loss']\n",
    "val_loss = history.history['val_loss']\n",
    "\n",
    "epochs = range(len(acc))\n",
    "\n",
    "plt.figure(figsize=(14,4))\n",
    "plt.subplot(121)\n",
    "plt.plot(epochs, acc, 'bo', label='Training accuracy')\n",
    "plt.plot(epochs, val_acc, 'b', label='Validation accuracy')\n",
    "plt.title(f\"{model_name}: Training/Validation Accuracy\", fontsize=14)\n",
    "plt.xlabel('Epoch', fontsize=16)\n",
    "plt.ylabel('Accuracy', fontsize=16)\n",
    "plt.legend()\n",
    "\n",
    "plt.subplot(122)\n",
    "plt.plot(epochs, loss, 'bo', label='Training loss')\n",
    "plt.plot(epochs, val_loss, 'b', label='Validation loss')\n",
    "plt.title(f\"{model_name}: Training/Validation Loss\", fontsize=14)\n",
    "plt.xlabel('Epoch', fontsize=16)\n",
    "plt.ylabel('Loss', fontsize=16)\n",
    "plt.legend()\n",
    "\n",
    "plt.show()"
   ]
  },
  {
   "cell_type": "code",
   "execution_count": 61,
   "id": "c6b418a6",
   "metadata": {},
   "outputs": [
    {
     "name": "stdout",
     "output_type": "stream",
     "text": [
      "188/188 [==============================] - 5s 24ms/step\n",
      "209/209 [==============================] - 5s 25ms/step\n",
      "CPU times: user 58.8 s, sys: 6.18 s, total: 1min 5s\n",
      "Wall time: 10.5 s\n"
     ]
    }
   ],
   "source": []
  },
  {
   "cell_type": "code",
   "execution_count": 32,
   "id": "fa8cba03",
   "metadata": {},
   "outputs": [
    {
     "name": "stdout",
     "output_type": "stream",
     "text": [
      "209/209 [==============================] - 6s 25ms/step\n",
      "\n",
      "E100_LSTM-64: TEST Classification Report\n",
      "                         precision    recall  f1-score   support\n",
      "\n",
      "Bank account or service       0.78      0.78      0.78       571\n",
      "          Consumer Loan       0.73      0.65      0.69       368\n",
      "            Credit card       0.77      0.84      0.80       793\n",
      "       Credit reporting       0.89      0.85      0.87      1253\n",
      "        Debt collection       0.84      0.89      0.86      1755\n",
      "        Money transfers       0.78      0.44      0.56        66\n",
      "               Mortgage       0.93      0.94      0.94      1492\n",
      "Other financial service       0.00      0.00      0.00        11\n",
      "            Payday loan       0.62      0.29      0.39        73\n",
      "           Prepaid card       0.88      0.67      0.76        86\n",
      "           Student loan       0.87      0.85      0.86       213\n",
      "\n",
      "               accuracy                           0.85      6681\n",
      "              macro avg       0.74      0.65      0.68      6681\n",
      "           weighted avg       0.85      0.85      0.85      6681\n",
      "\n",
      "CPU times: user 29.9 s, sys: 3.29 s, total: 33.2 s\n",
      "Wall time: 5.69 s\n"
     ]
    }
   ],
   "source": [
    "%%time\n",
    "y_test_predicted = model.predict(x_test_fl).argmax(axis=1)\n",
    "print(f\"\\n{model_name}: TEST Classification Report\")\n",
    "print(sk.metrics.classification_report(y_test_int, y_test_predicted, target_names=product_labels))"
   ]
  },
  {
   "cell_type": "code",
   "execution_count": 33,
   "id": "920de375",
   "metadata": {},
   "outputs": [
    {
     "name": "stdout",
     "output_type": "stream",
     "text": [
      "\n",
      "E100_LSTM-64: TEST Confusion Matrix\n"
     ]
    },
    {
     "data": {
      "image/png": "[encoded data removed]",
      "text/plain": [
       "<Figure size 648x432 with 2 Axes>"
      ]
     },
     "metadata": {
      "needs_background": "light"
     },
     "output_type": "display_data"
    }
   ],
   "source": [
    "# Confusion matrix on TEST data\n",
    "print(f\"\\n{model_name}: TEST Confusion Matrix\")\n",
    "product_mat = sk.metrics.confusion_matrix(y_test_int, y_test_predicted)\n",
    "\n",
    "fig, ax = plt.subplots(figsize=(9, 6))\n",
    "sns.heatmap(product_mat, annot=True, fmt=\"d\", cbar=True, cmap=\"BuPu\", xticklabels=product_labels, yticklabels=product_labels)\n",
    "plt.ylabel('CFPB Label')\n",
    "plt.xlabel('Model Prediction')\n",
    "plt.title(f\"{model_name}: TEST Confusion Matrix\")\n",
    "plt.show()"
   ]
  },
  {
   "cell_type": "markdown",
   "id": "974bf262",
   "metadata": {},
   "source": [
    "# <a id=\"summary-performance\">Summary performance</a>\n",
    "\n",
    "Baseline models performance: Accuracy\n",
    "\n",
    "* model_mnb\n",
    "* model_mlp\n",
    "* model_lstm\n",
    "\n",
    "[top](#toc) "
   ]
  },
  {
   "cell_type": "code",
   "execution_count": 34,
   "id": "2949aed6",
   "metadata": {},
   "outputs": [
    {
     "name": "stdout",
     "output_type": "stream",
     "text": [
      "Multinomial-Naive-Bayes: Accuracy\n",
      " DEV score: 78.55\n",
      "TEST score: 77.74\n",
      "\n",
      "CPU times: user 5.2 s, sys: 426 ms, total: 5.62 s\n",
      "Wall time: 6.11 s\n"
     ]
    }
   ],
   "source": [
    "%%time\n",
    "# MNB score \n",
    "model_name = \"Multinomial-Naive-Bayes\"\n",
    "dev_score = model_mnb.score(x_dev, y_dev)\n",
    "test_score = model_mnb.score(x_test, y_test)\n",
    "print(f\"{model_name}: Accuracy\")\n",
    "print(f\" DEV score: {100*dev_score:.2f}\")\n",
    "print(f\"TEST score: {100*test_score:.2f}\\n\")"
   ]
  },
  {
   "cell_type": "code",
   "execution_count": 35,
   "id": "445ee812",
   "metadata": {},
   "outputs": [
    {
     "name": "stdout",
     "output_type": "stream",
     "text": [
      "188/188 [==============================] - 1s 3ms/step - loss: 0.6504 - accuracy: 0.8583\n",
      "209/209 [==============================] - 1s 2ms/step - loss: 0.6826 - accuracy: 0.8526\n",
      "1691/1691 [==============================] - 6s 3ms/step - loss: 0.1634 - accuracy: 0.9523\n",
      "\n",
      "BoW_MLP-128: Accuracy\n",
      "  DEV loss: 0.65\t accuracy: 85.83\n",
      " TEST loss: 0.68\t accuracy: 85.26\n",
      "TRAIN loss: 0.16\t accuracy: 95.23\n",
      "\n",
      "CPU times: user 24.5 s, sys: 9.63 s, total: 34.2 s\n",
      "Wall time: 18.9 s\n"
     ]
    }
   ],
   "source": [
    "%%time\n",
    "# MLP: DEV/TEST/TRAIN accuracy\n",
    "dev_loss, dev_acc = model_mlp.evaluate(x_dev_b, y_dev_1h)\n",
    "test_loss, test_acc = model_mlp.evaluate(x_test_b, y_test_1h)\n",
    "train_loss, train_acc = model_mlp.evaluate(x_train_b, y_train_1h)\n",
    "\n",
    "model_name = \"BoW_MLP-128\"\n",
    "print(f\"\\n{model_name}: Accuracy\")\n",
    "print(f\"  DEV loss: {dev_loss:.2f}\\t accuracy: {100*dev_acc:.2f}\")\n",
    "print(f\" TEST loss: {test_loss:.2f}\\t accuracy: {100*test_acc:.2f}\")\n",
    "print(f\"TRAIN loss: {train_loss:.2f}\\t accuracy: {100*train_acc:.2f}\\n\")"
   ]
  },
  {
   "cell_type": "code",
   "execution_count": 36,
   "id": "897e4a94",
   "metadata": {},
   "outputs": [
    {
     "name": "stdout",
     "output_type": "stream",
     "text": [
      "188/188 [==============================] - 5s 28ms/step - loss: 0.5548 - accuracy: 0.8512\n",
      "209/209 [==============================] - 6s 29ms/step - loss: 0.5730 - accuracy: 0.8494\n",
      "1691/1691 [==============================] - 51s 30ms/step - loss: 0.2903 - accuracy: 0.9124\n",
      "\n",
      "E100_LSTM-64: Accuracy\n",
      "  DEV loss: 0.55\t accuracy: 85.12\n",
      " TEST loss: 0.57\t accuracy: 84.94\n",
      "TRAIN loss: 0.29\t accuracy: 91.24\n",
      "\n",
      "CPU times: user 6min 7s, sys: 36.2 s, total: 6min 44s\n",
      "Wall time: 1min 2s\n"
     ]
    }
   ],
   "source": [
    "%%time\n",
    "# LSTM: DEV/TEST/TRAIN accuracy\n",
    "dev_loss, dev_acc = model_lstm.evaluate(x_dev_fl, y_dev_1h)\n",
    "test_loss, test_acc = model_lstm.evaluate(x_test_fl, y_test_1h)\n",
    "train_loss, train_acc = model_lstm.evaluate(x_train_fl, y_train_1h)\n",
    "\n",
    "model_name = \"E100_LSTM-64\"\n",
    "print(f\"\\n{model_name}: Accuracy\")\n",
    "print(f\"  DEV loss: {dev_loss:.2f}\\t accuracy: {100*dev_acc:.2f}\")\n",
    "print(f\" TEST loss: {test_loss:.2f}\\t accuracy: {100*test_acc:.2f}\")\n",
    "print(f\"TRAIN loss: {train_loss:.2f}\\t accuracy: {100*train_acc:.2f}\\n\")"
   ]
  },
  {
   "cell_type": "code",
   "execution_count": null,
   "id": "3f0e0d99",
   "metadata": {},
   "outputs": [],
   "source": [
    "# EOF"
   ]
  }
 ],
 "metadata": {
  "kernelspec": {
   "display_name": "Python 3 (ipykernel)",
   "language": "python",
   "name": "python3"
  },
  "language_info": {
   "codemirror_mode": {
    "name": "ipython",
    "version": 3
   },
   "file_extension": ".py",
   "mimetype": "text/x-python",
   "name": "python",
   "nbconvert_exporter": "python",
   "pygments_lexer": "ipython3",
   "version": "3.9.12"
  }
 },
 "nbformat": 4,
 "nbformat_minor": 5
}
